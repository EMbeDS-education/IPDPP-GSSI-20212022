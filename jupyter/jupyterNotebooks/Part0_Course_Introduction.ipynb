{
 "cells": [
  {
   "cell_type": "markdown",
   "metadata": {},
   "source": [
    "<center><font size=\"+4\">Introduction to Programming and</font></center>\n",
    "<center><font size=\"+4\">Data Processing in Python 2021/2022</font></center>\n",
    "<br/>\n",
    "<center><font size=\"+2\">Core course, PhD program in Computer Science</font></center>\n",
    "<center><font size=\"+2\">GSSI Gran Sasso Science Institute, L'Aquila, Italy</font></center><br/>\n",
    "\n",
    "<center><font size=\"+2\">Course responsibles</font></center>\n",
    "<center><font size=\"+1\"><a href=\"https://www.linkedin.com/in/daniele-licari\">Daniele Licari</a> &nbsp; d.licari@santannapisa.it</font></center>\n",
    "<center><font size=\"+1\">\n",
    "    &nbsp;&nbsp;\n",
    "    <a href=\"https://www.santannapisa.it/en/andrea-vandin\">Andrea Vandin</a> &nbsp; a.vandin@santannapisa.it</font></center>\n",
    "\n",
    "---\n",
    "---"
   ]
  },
  {
   "cell_type": "code",
   "execution_count": 3,
   "metadata": {},
   "outputs": [
    {
     "name": "stdout",
     "output_type": "stream",
     "text": [
      "Ciao\n"
     ]
    },
    {
     "name": "stdin",
     "output_type": "stream",
     "text": [
      "Give me n 2\n",
      "Give me m 3\n"
     ]
    }
   ],
   "source": [
    "print('Ciao')\n",
    "n=input('Give me n')\n",
    "m=input('Give me m')"
   ]
  },
  {
   "cell_type": "code",
   "execution_count": 5,
   "metadata": {},
   "outputs": [
    {
     "data": {
      "text/plain": [
       "5"
      ]
     },
     "execution_count": 5,
     "metadata": {},
     "output_type": "execute_result"
    }
   ],
   "source": [
    "int(n)+int(m)"
   ]
  },
  {
   "cell_type": "markdown",
   "metadata": {},
   "source": [
    "<center><font size=\"+2\">Part 0</font></center>\n",
    "<center><font size=\"+1\">Course introduction</font></center>\n",
    "\n",
    "---\n",
    "---"
   ]
  },
  {
   "cell_type": "markdown",
   "metadata": {},
   "source": [
    "# Course website & material\n",
    "All material used in this course, including jupyter notebooks & datasets are available at\n",
    "- https://github.com/EMbeDS-education/IPDPP-GSSI-20212022/wiki"
   ]
  },
  {
   "cell_type": "markdown",
   "metadata": {
    "jp-MarkdownHeadingCollapsed": true,
    "tags": []
   },
   "source": [
    "# Course structure\n",
    "\n",
    "**Part 1, Andrea Vandin: _We first build our toolset_**\n",
    "- Advanced Libraries for data manipulation/visualization\n",
    "- When\n",
    "    - 17/01/2022, 16:00-18:00\n",
    "    - 19/01/2022, 16:00-18:00\n",
    "    - 21/01/2022, 16:00-18:00\n",
    "  - Topics\n",
    "    - NumPy\n",
    "    - Pandas\n",
    "    - All presented with concrete simple applications on real datasets (e.g. official Italian COVID'19 data by Protezione Civile, or simple application to Yahoo! Finance stock prices, ...)\n",
    "\n",
    "**Part 2, Daniele Licari: _We apply our toolset on a case study_** \n",
    "- [Breast Cancer Wisconsin (Diagnostic) Data Set](https://archive.ics.uci.edu/ml/datasets/Breast+Cancer+Wisconsin+(Diagnostic)) \n",
    "  - When\n",
    "    - 24/01/2022, 16:00-18:00\n",
    "    - 26/01/2022, 16:00-18:00\n",
    "    - 28/01/2022, 16:00-18:00\n",
    "  - Topics    \n",
    "      - Scikit-Learn, Seaborn\n",
    "      - Exploratory Data Analysis (data pre-processing, outliers detection, ...)\n",
    "      - Dimensionality Reduction (PCA)\n",
    "      - Clustering (K-means)\n",
    "      - Classification (of Benign and Malignant Breast Cancer)\n",
    "  \n",
    "**Part 3, Closing lecture, Daniele Licari, Andrea Vandin** \n",
    "- [Knime](https://www.knime.com/): a graphical language for complex data analysis tasks\n",
    "  - When\n",
    "    - 31/01/2022, 16:00-18:00"
   ]
  },
  {
   "cell_type": "markdown",
   "metadata": {},
   "source": [
    "# Learning objectives\n",
    "A student who has met the objectives of the course will be able to: \n",
    "- **describe** advanced Python libraries for data processing \n",
    "- **apply** such libraries to medium-complexity problems\n",
    "- **describe** and **use** modern graphical programming languages for data analysis and machine learning\n",
    "- **describe** the pipeline of steps/problems common in data analysis and machine learning tasks\n",
    "- **communicate** analysis results in a clear and precise manner using popular web-based IDEs"
   ]
  },
  {
   "cell_type": "markdown",
   "metadata": {},
   "source": [
    "# How are we going to evaluate you?\n"
   ]
  },
  {
   "cell_type": "markdown",
   "metadata": {},
   "source": [
    "## Oral examination based on a project report\n",
    "* You will be given a simple _classic_ dataset\n",
    "  * Would have you survived the Titanic sinking?\n",
    "  * Or __you can propose a dataset of interest__ if any\n",
    "* You will be asked to do a data-analysis project \n",
    "* You can form groups of 2 or 3\n",
    "* We will do an oral examination based on your project"
   ]
  },
  {
   "cell_type": "markdown",
   "metadata": {},
   "source": [
    "## Project description\n",
    "- Consider the **Titanic** dataset available in our [dataset folder](https://github.com/EMbeDS-education/IPDPP-GSSI-20212022/wiki/Datasets) with a **description**\n",
    "  - Or contact us if you want to propose a dataset of interest.\n",
    "- It contains information on 1309 passengers\n",
    "  - 14 properties/attributes\n",
    "  - 1 target variable on the survival of the passenger\n",
    "- Your task is to analyze this dataset in the lines of what done during the course\n",
    "  - The final goal is to **obtain a classifier able to predict the survival probability of a hypotethical passenger**\n",
    "  - BEWARE: \n",
    "    - Try first to understand the data. Read the provided description. \n",
    "    - You should prepare and submit a [jupyterLab notebook](https://jupyterlab.readthedocs.io/en/stable/) or a link to a Google Colab ([![Colab](https://colab.research.google.com/assets/colab-badge.svg)](https://colab.research.google.com/notebooks/intro.ipynb)) containing your analysis\n",
    "      - **Properly commenting/motivating each step with suitable comments**\n",
    "      - Similarly to what we do in the jupyterLab notebooks we use in our classes\n",
    "    -  You are free to choose part of the techniques/tools seen during the course\n",
    "      - **Motivate your choices**"
   ]
  },
  {
   "cell_type": "markdown",
   "metadata": {},
   "source": [
    "## Create your group"
   ]
  },
  {
   "cell_type": "markdown",
   "metadata": {},
   "source": [
    "[Please register your group here](https://docs.google.com/document/d/1aMXNlpo52d0NbPNR8UYIjtL6yN79a3hU8_EY93Jp-74/edit?usp=sharing)"
   ]
  }
 ],
 "metadata": {
  "kernelspec": {
   "display_name": "env_ipdpp_2122",
   "language": "python",
   "name": "env_ipdpp_2122"
  },
  "language_info": {
   "codemirror_mode": {
    "name": "ipython",
    "version": 3
   },
   "file_extension": ".py",
   "mimetype": "text/x-python",
   "name": "python",
   "nbconvert_exporter": "python",
   "pygments_lexer": "ipython3",
   "version": "3.10.1"
  },
  "toc-autonumbering": true
 },
 "nbformat": 4,
 "nbformat_minor": 4
}
