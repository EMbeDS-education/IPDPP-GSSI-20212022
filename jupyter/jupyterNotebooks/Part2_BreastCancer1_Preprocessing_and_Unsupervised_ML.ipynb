{
 "cells": [
  {
   "cell_type": "markdown",
   "metadata": {},
   "source": [
    "<center><font size=\"+2\">Introduction to Programming and</font></center>\n",
    "<center><font size=\"+2\">Data Processing in Python 2020/2021</font></center>\n",
    "<br/>\n",
    "<center><font size=\"+1\">Core course, PhD program in Computer Science</font></center>\n",
    "<center><font size=\"+1\">GSSI Gran Sasso Science Institute, L'Aquila, Italy</font></center><br/>\n",
    "\n",
    "<center><font size=\"+2\">Course responsibles</font></center>\n",
    "<center><font size=\"+1\"><a href=\"https://www.linkedin.com/in/daniele-licari\">Daniele Licari</a> &nbsp; d.licari@santannapisa.it</font></center>\n",
    "<center><font size=\"+1\">\n",
    "    &nbsp;&nbsp;\n",
    "    <a href=\"https://www.santannapisa.it/en/andrea-vandin\">Andrea Vandin</a> &nbsp; a.vandin@santannapisa.it</font></center>\n",
    "\n",
    "---\n",
    "---"
   ]
  },
  {
   "cell_type": "markdown",
   "metadata": {},
   "source": [
    "<center><font size=\"+2\">Part 2</font></center>\n",
    "<center><font size=\"+1\">Breast Cancer Diagnosis 1</font></center>\n",
    "<center><font size=\"+1\">Overview of data processing & unsupervised learning</font></center>\n",
    "\n",
    "---\n",
    "---"
   ]
  },
  {
   "cell_type": "markdown",
   "metadata": {},
   "source": [
    "**This notebook provides an overview of unsupervised learning pipeline**\n",
    "   * Exploratory Data Analysis (data pre-processing, missing values, outliers detection, ...)\n",
    "   * Dimensionality Reduction (PCA)\n",
    "   * Clustering (K-means)\n",
    "\n",
    "You can find more details in the [APPENDIX](#APPENDIX) of this document.\n",
    "\n",
    "In particular, this notebook will introduce the libraries:\n",
    "\n",
    "   * [scikit-learn](https://scikit-learn.org/stable/): simple and efficient tools for predictive data analysis \n",
    "   * [Seaborn](http://seaborn.pydata.org/): seaborn is a Python data visualization library based on matplotlib. It provides a high-level interface for drawing attractive and informative statistical graphics.\n",
    "\n",
    "\n",
    "\n",
    "\n",
    "**References** \n",
    "\n",
    "This notebook is mainly based on the following books:\n",
    "\n",
    "* <mark>[Statistics and Machine Learning in Python, E.Duchesnay, T.Löfstedt, F.Younes](ftp://ftp.cea.fr/pub/unati/people/educhesnay/pystatml/StatisticsMachineLearningPythonDraft.pdf)</mark>\n",
    "* [Python for Data Analysis, 2nd edition, William Wesley McKinney (O’Reilly)](https://www.oreilly.com/library/view/python-data-science/9781491912126/)\n",
    "* [Freely available Jupyter notebooks covering the examples/material of each chapter](https://github.com/jakevdp/PythonDataScienceHandbook/tree/master/notebooks)\n",
    "* [Introduction to Data Mining (2nd Edition), Pang-Ning Tan et al.](https://www.cse.msu.edu/~ptan/)\n",
    "* [Introduction to Machine Learning Algorithms, KNIME AG](https://www.knime.com/knime-course-material-download-page)\n",
    "\n",
    "Some pictures have been taken from these sources.\n",
    "\n",
    "# What Is Machine Learning?\n",
    "\n",
    "<img src=\"img/whats_ml.jpg\" alt=\"ML\" style=\"width: 400px;\"/>\n",
    "\n",
    "Machine learning can be categorized into two main types: supervised learning and unsupervised learning.\n",
    "\n",
    "- Supervised learning models tries to learn the relationship between measured features X of data and some labels y associated with the data; The learning algorithm adjusts (learns) the model parameters through a number of iterations to maximize/minimize a likelihood/error function on output. Once this model is determined, it can be used to apply labels to new, unknown data. This is further subdivided into:\n",
    "  - *Classification* tasks, the labels are discrete categories\n",
    "  - *Regression* tasks, the labels are continuous quantities. \n",
    "\n",
    "- Unsupervised learning involves modeling the features of a dataset X without reference to any label, and is often described as “letting the dataset speak for itself.” These models include tasks such as:\n",
    "    - *Outlier Detection* is the identification of rare items\n",
    "    - *Dimensionality Reduction* search for a lower-dimensional representations of the data.\n",
    "    - *Clustering* identify distinct groups of data\n"
   ]
  },
  {
   "cell_type": "markdown",
   "metadata": {
    "toc-hr-collapsed": true
   },
   "source": [
    "# Benign and Malignant Breast Cancer Case Study \n",
    "We will analize Wisconsin Breast Cancer Dataset (WBCD), features are computed from a digitized image of a fine needle aspirate (FNA) of a breast mass. They describe characteristics of the cell nuclei present in the image.\n",
    "\n",
    "<img src=\"img/Breast-Biopsy-2.jpg\" >\n",
    "\n",
    "![alt text](img/fna-benign1.png)\n",
    "![alt text](img/fna-malignant1.png)\n",
    "\n",
    "**Attribute Information**\n",
    "- radius (mean of distances from center to points on the perimeter)\n",
    "- texture (standard deviation of gray-scale values)\n",
    "- perimeter\n",
    "- area\n",
    "- smoothness (local variation in radius lengths)\n",
    "- compactness (perimeter^2 / area - 1.0)\n",
    "- concavity (severity of concave portions of the contour)\n",
    "- concave points (number of concave portions of the contour)\n",
    "- symmetry \n",
    "- fractal dimension (\"coastline approximation\" - 1)\n",
    "\n",
    "The mean, standard error, and \"worst\" or largest (mean of the three\n",
    "largest values) of these features were computed for each image,\n",
    "resulting in 30 features.  For instance, field 3 is Mean Radius, field\n",
    "13 is Radius SE, field 23 is Worst Radius.\n",
    "\n",
    "**Labels Class:**\n",
    "* malignant\n",
    "* benign\n",
    "\n",
    "\n",
    "\n",
    "This dataset is also available via the ftp server UW CS: http://ftp.cs.wisc.edu/math-prog/cpo-dataset/machine-learn/cancer/WDBC/"
   ]
  },
  {
   "cell_type": "markdown",
   "metadata": {},
   "source": [
    "## Prerequisites\n",
    "We will start by installing the necessary tools"
   ]
  },
  {
   "cell_type": "code",
   "execution_count": 33,
   "metadata": {},
   "outputs": [
    {
     "name": "stdout",
     "output_type": "stream",
     "text": [
      "Requirement already satisfied: sklearn in c:\\users\\d.licari\\pycharmprojects\\venv\\env_ipdpp_gssi2021\\lib\\site-packages (0.0)\n",
      "Requirement already satisfied: scikit-learn in c:\\users\\d.licari\\pycharmprojects\\venv\\env_ipdpp_gssi2021\\lib\\site-packages (from sklearn) (0.24.1)\n",
      "Requirement already satisfied: numpy>=1.13.3 in c:\\users\\d.licari\\pycharmprojects\\venv\\env_ipdpp_gssi2021\\lib\\site-packages (from scikit-learn->sklearn) (1.19.5)\n",
      "Requirement already satisfied: joblib>=0.11 in c:\\users\\d.licari\\pycharmprojects\\venv\\env_ipdpp_gssi2021\\lib\\site-packages (from scikit-learn->sklearn) (1.0.0)\n",
      "Requirement already satisfied: scipy>=0.19.1 in c:\\users\\d.licari\\pycharmprojects\\venv\\env_ipdpp_gssi2021\\lib\\site-packages (from scikit-learn->sklearn) (1.6.0)\n",
      "Requirement already satisfied: threadpoolctl>=2.0.0 in c:\\users\\d.licari\\pycharmprojects\\venv\\env_ipdpp_gssi2021\\lib\\site-packages (from scikit-learn->sklearn) (2.1.0)\n",
      "Requirement already satisfied: scipy in c:\\users\\d.licari\\pycharmprojects\\venv\\env_ipdpp_gssi2021\\lib\\site-packages (1.6.0)\n",
      "Requirement already satisfied: numpy>=1.16.5 in c:\\users\\d.licari\\pycharmprojects\\venv\\env_ipdpp_gssi2021\\lib\\site-packages (from scipy) (1.19.5)\n",
      "^C\n"
     ]
    }
   ],
   "source": [
    "import sys\n",
    " # numpy for numerical computing\n",
    "!{sys.executable} -m pip install numpy\n",
    "# pandas for data processing\n",
    "!{sys.executable} -m pip install pandas \n",
    " # seaborn for visualization\n",
    "!{sys.executable} -m pip install seaborn\n",
    "#sklearn for machine learning \n",
    "!{sys.executable} -m pip install sklearn \n",
    "# scipy for statistical functions \n",
    "!{sys.executable} -m pip install scipy  \n",
    "# statsmodels for statistical models\n",
    "!{sys.executable} -m pip install statsmodels"
   ]
  },
  {
   "cell_type": "markdown",
   "metadata": {},
   "source": [
    "### Load libraries"
   ]
  },
  {
   "cell_type": "code",
   "execution_count": 34,
   "metadata": {},
   "outputs": [],
   "source": [
    "# Data Processing libs\n",
    "import numpy as np # linear algebra\n",
    "import pandas as pd # data processing, CSV file I/O (e.g. pd.read_csv)\n",
    "\n",
    "# Visualizzation libs\n",
    "# keeps the plots in one place. calls image as static pngs\n",
    "%matplotlib inline\n",
    "import matplotlib.pyplot as plt # side-stepping mpl backend\n",
    "import seaborn as sns # data visualization library based on matplotlib\n",
    "from IPython.display import display, Markdown # display Markdown code using Python\n",
    "\n",
    "from warnings import filterwarnings\n",
    "filterwarnings('ignore')"
   ]
  },
  {
   "cell_type": "markdown",
   "metadata": {},
   "source": [
    "## Load Dataset"
   ]
  },
  {
   "cell_type": "markdown",
   "metadata": {},
   "source": [
    "Scikit-learn comes with a [few standard datasets](https://scikit-learn.org/stable/datasets/toy_dataset.html), we can load the Wisconsin Breast Cancer Dataset (WBCD) using *sklearn.datasets.load_breast_cancer*"
   ]
  },
  {
   "cell_type": "code",
   "execution_count": 35,
   "metadata": {},
   "outputs": [
    {
     "data": {
      "text/plain": [
       "dict_keys(['data', 'target', 'frame', 'target_names', 'DESCR', 'feature_names', 'filename'])"
      ]
     },
     "execution_count": 35,
     "metadata": {},
     "output_type": "execute_result"
    }
   ],
   "source": [
    "from sklearn.datasets import load_breast_cancer # to load the dataset\n",
    "\n",
    "#load dataset \n",
    "data = load_breast_cancer() \n",
    "data.keys()"
   ]
  },
  {
   "cell_type": "code",
   "execution_count": 36,
   "metadata": {},
   "outputs": [
    {
     "name": "stdout",
     "output_type": "stream",
     "text": [
      "Requirement already satisfied: statsmodels in c:\\users\\d.licari\\pycharmprojects\\venv\\env_ipdpp_gssi2021\\lib\\site-packages (0.12.1)\n",
      "Requirement already satisfied: pandas>=0.21 in c:\\users\\d.licari\\pycharmprojects\\venv\\env_ipdpp_gssi2021\\lib\\site-packages (from statsmodels) (1.2.1)\n",
      "Requirement already satisfied: scipy>=1.1 in c:\\users\\d.licari\\pycharmprojects\\venv\\env_ipdpp_gssi2021\\lib\\site-packages (from statsmodels) (1.6.0)\n",
      "Requirement already satisfied: patsy>=0.5 in c:\\users\\d.licari\\pycharmprojects\\venv\\env_ipdpp_gssi2021\\lib\\site-packages (from statsmodels) (0.5.1)\n",
      "Requirement already satisfied: numpy>=1.15 in c:\\users\\d.licari\\pycharmprojects\\venv\\env_ipdpp_gssi2021\\lib\\site-packages (from statsmodels) (1.19.5)\n",
      "Requirement already satisfied: python-dateutil>=2.7.3 in c:\\users\\d.licari\\pycharmprojects\\venv\\env_ipdpp_gssi2021\\lib\\site-packages (from pandas>=0.21->statsmodels) (2.8.1)\n",
      "Requirement already satisfied: pytz>=2017.3 in c:\\users\\d.licari\\pycharmprojects\\venv\\env_ipdpp_gssi2021\\lib\\site-packages (from pandas>=0.21->statsmodels) (2020.5)\n",
      "Requirement already satisfied: six in c:\\users\\d.licari\\pycharmprojects\\venv\\env_ipdpp_gssi2021\\lib\\site-packages (from patsy>=0.5->statsmodels) (1.15.0)\n"
     ]
    },
    {
     "data": {
      "text/html": [
       "<div>\n",
       "<style scoped>\n",
       "    .dataframe tbody tr th:only-of-type {\n",
       "        vertical-align: middle;\n",
       "    }\n",
       "\n",
       "    .dataframe tbody tr th {\n",
       "        vertical-align: top;\n",
       "    }\n",
       "\n",
       "    .dataframe thead th {\n",
       "        text-align: right;\n",
       "    }\n",
       "</style>\n",
       "<table border=\"1\" class=\"dataframe\">\n",
       "  <thead>\n",
       "    <tr style=\"text-align: right;\">\n",
       "      <th></th>\n",
       "      <th>mean radius</th>\n",
       "      <th>mean texture</th>\n",
       "      <th>mean perimeter</th>\n",
       "      <th>mean area</th>\n",
       "      <th>mean smoothness</th>\n",
       "      <th>mean compactness</th>\n",
       "      <th>mean concavity</th>\n",
       "      <th>mean concave points</th>\n",
       "      <th>mean symmetry</th>\n",
       "      <th>mean fractal dimension</th>\n",
       "      <th>...</th>\n",
       "      <th>worst radius</th>\n",
       "      <th>worst texture</th>\n",
       "      <th>worst perimeter</th>\n",
       "      <th>worst area</th>\n",
       "      <th>worst smoothness</th>\n",
       "      <th>worst compactness</th>\n",
       "      <th>worst concavity</th>\n",
       "      <th>worst concave points</th>\n",
       "      <th>worst symmetry</th>\n",
       "      <th>worst fractal dimension</th>\n",
       "    </tr>\n",
       "  </thead>\n",
       "  <tbody>\n",
       "    <tr>\n",
       "      <th>0</th>\n",
       "      <td>17.99</td>\n",
       "      <td>10.38</td>\n",
       "      <td>122.80</td>\n",
       "      <td>1001.0</td>\n",
       "      <td>0.11840</td>\n",
       "      <td>0.27760</td>\n",
       "      <td>0.30010</td>\n",
       "      <td>0.14710</td>\n",
       "      <td>0.2419</td>\n",
       "      <td>0.07871</td>\n",
       "      <td>...</td>\n",
       "      <td>25.380</td>\n",
       "      <td>17.33</td>\n",
       "      <td>184.60</td>\n",
       "      <td>2019.0</td>\n",
       "      <td>0.16220</td>\n",
       "      <td>0.66560</td>\n",
       "      <td>0.7119</td>\n",
       "      <td>0.2654</td>\n",
       "      <td>0.4601</td>\n",
       "      <td>0.11890</td>\n",
       "    </tr>\n",
       "    <tr>\n",
       "      <th>1</th>\n",
       "      <td>20.57</td>\n",
       "      <td>17.77</td>\n",
       "      <td>132.90</td>\n",
       "      <td>1326.0</td>\n",
       "      <td>0.08474</td>\n",
       "      <td>0.07864</td>\n",
       "      <td>0.08690</td>\n",
       "      <td>0.07017</td>\n",
       "      <td>0.1812</td>\n",
       "      <td>0.05667</td>\n",
       "      <td>...</td>\n",
       "      <td>24.990</td>\n",
       "      <td>23.41</td>\n",
       "      <td>158.80</td>\n",
       "      <td>1956.0</td>\n",
       "      <td>0.12380</td>\n",
       "      <td>0.18660</td>\n",
       "      <td>0.2416</td>\n",
       "      <td>0.1860</td>\n",
       "      <td>0.2750</td>\n",
       "      <td>0.08902</td>\n",
       "    </tr>\n",
       "    <tr>\n",
       "      <th>2</th>\n",
       "      <td>19.69</td>\n",
       "      <td>21.25</td>\n",
       "      <td>130.00</td>\n",
       "      <td>1203.0</td>\n",
       "      <td>0.10960</td>\n",
       "      <td>0.15990</td>\n",
       "      <td>0.19740</td>\n",
       "      <td>0.12790</td>\n",
       "      <td>0.2069</td>\n",
       "      <td>0.05999</td>\n",
       "      <td>...</td>\n",
       "      <td>23.570</td>\n",
       "      <td>25.53</td>\n",
       "      <td>152.50</td>\n",
       "      <td>1709.0</td>\n",
       "      <td>0.14440</td>\n",
       "      <td>0.42450</td>\n",
       "      <td>0.4504</td>\n",
       "      <td>0.2430</td>\n",
       "      <td>0.3613</td>\n",
       "      <td>0.08758</td>\n",
       "    </tr>\n",
       "    <tr>\n",
       "      <th>3</th>\n",
       "      <td>11.42</td>\n",
       "      <td>20.38</td>\n",
       "      <td>77.58</td>\n",
       "      <td>386.1</td>\n",
       "      <td>0.14250</td>\n",
       "      <td>0.28390</td>\n",
       "      <td>0.24140</td>\n",
       "      <td>0.10520</td>\n",
       "      <td>0.2597</td>\n",
       "      <td>0.09744</td>\n",
       "      <td>...</td>\n",
       "      <td>14.910</td>\n",
       "      <td>26.50</td>\n",
       "      <td>98.87</td>\n",
       "      <td>567.7</td>\n",
       "      <td>0.20980</td>\n",
       "      <td>0.86630</td>\n",
       "      <td>0.6869</td>\n",
       "      <td>0.2575</td>\n",
       "      <td>0.6638</td>\n",
       "      <td>0.17300</td>\n",
       "    </tr>\n",
       "    <tr>\n",
       "      <th>4</th>\n",
       "      <td>20.29</td>\n",
       "      <td>14.34</td>\n",
       "      <td>135.10</td>\n",
       "      <td>1297.0</td>\n",
       "      <td>0.10030</td>\n",
       "      <td>0.13280</td>\n",
       "      <td>0.19800</td>\n",
       "      <td>0.10430</td>\n",
       "      <td>0.1809</td>\n",
       "      <td>0.05883</td>\n",
       "      <td>...</td>\n",
       "      <td>22.540</td>\n",
       "      <td>16.67</td>\n",
       "      <td>152.20</td>\n",
       "      <td>1575.0</td>\n",
       "      <td>0.13740</td>\n",
       "      <td>0.20500</td>\n",
       "      <td>0.4000</td>\n",
       "      <td>0.1625</td>\n",
       "      <td>0.2364</td>\n",
       "      <td>0.07678</td>\n",
       "    </tr>\n",
       "    <tr>\n",
       "      <th>...</th>\n",
       "      <td>...</td>\n",
       "      <td>...</td>\n",
       "      <td>...</td>\n",
       "      <td>...</td>\n",
       "      <td>...</td>\n",
       "      <td>...</td>\n",
       "      <td>...</td>\n",
       "      <td>...</td>\n",
       "      <td>...</td>\n",
       "      <td>...</td>\n",
       "      <td>...</td>\n",
       "      <td>...</td>\n",
       "      <td>...</td>\n",
       "      <td>...</td>\n",
       "      <td>...</td>\n",
       "      <td>...</td>\n",
       "      <td>...</td>\n",
       "      <td>...</td>\n",
       "      <td>...</td>\n",
       "      <td>...</td>\n",
       "      <td>...</td>\n",
       "    </tr>\n",
       "    <tr>\n",
       "      <th>564</th>\n",
       "      <td>21.56</td>\n",
       "      <td>22.39</td>\n",
       "      <td>142.00</td>\n",
       "      <td>1479.0</td>\n",
       "      <td>0.11100</td>\n",
       "      <td>0.11590</td>\n",
       "      <td>0.24390</td>\n",
       "      <td>0.13890</td>\n",
       "      <td>0.1726</td>\n",
       "      <td>0.05623</td>\n",
       "      <td>...</td>\n",
       "      <td>25.450</td>\n",
       "      <td>26.40</td>\n",
       "      <td>166.10</td>\n",
       "      <td>2027.0</td>\n",
       "      <td>0.14100</td>\n",
       "      <td>0.21130</td>\n",
       "      <td>0.4107</td>\n",
       "      <td>0.2216</td>\n",
       "      <td>0.2060</td>\n",
       "      <td>0.07115</td>\n",
       "    </tr>\n",
       "    <tr>\n",
       "      <th>565</th>\n",
       "      <td>20.13</td>\n",
       "      <td>28.25</td>\n",
       "      <td>131.20</td>\n",
       "      <td>1261.0</td>\n",
       "      <td>0.09780</td>\n",
       "      <td>0.10340</td>\n",
       "      <td>0.14400</td>\n",
       "      <td>0.09791</td>\n",
       "      <td>0.1752</td>\n",
       "      <td>0.05533</td>\n",
       "      <td>...</td>\n",
       "      <td>23.690</td>\n",
       "      <td>38.25</td>\n",
       "      <td>155.00</td>\n",
       "      <td>1731.0</td>\n",
       "      <td>0.11660</td>\n",
       "      <td>0.19220</td>\n",
       "      <td>0.3215</td>\n",
       "      <td>0.1628</td>\n",
       "      <td>0.2572</td>\n",
       "      <td>0.06637</td>\n",
       "    </tr>\n",
       "    <tr>\n",
       "      <th>566</th>\n",
       "      <td>16.60</td>\n",
       "      <td>28.08</td>\n",
       "      <td>108.30</td>\n",
       "      <td>858.1</td>\n",
       "      <td>0.08455</td>\n",
       "      <td>0.10230</td>\n",
       "      <td>0.09251</td>\n",
       "      <td>0.05302</td>\n",
       "      <td>0.1590</td>\n",
       "      <td>0.05648</td>\n",
       "      <td>...</td>\n",
       "      <td>18.980</td>\n",
       "      <td>34.12</td>\n",
       "      <td>126.70</td>\n",
       "      <td>1124.0</td>\n",
       "      <td>0.11390</td>\n",
       "      <td>0.30940</td>\n",
       "      <td>0.3403</td>\n",
       "      <td>0.1418</td>\n",
       "      <td>0.2218</td>\n",
       "      <td>0.07820</td>\n",
       "    </tr>\n",
       "    <tr>\n",
       "      <th>567</th>\n",
       "      <td>20.60</td>\n",
       "      <td>29.33</td>\n",
       "      <td>140.10</td>\n",
       "      <td>1265.0</td>\n",
       "      <td>0.11780</td>\n",
       "      <td>0.27700</td>\n",
       "      <td>0.35140</td>\n",
       "      <td>0.15200</td>\n",
       "      <td>0.2397</td>\n",
       "      <td>0.07016</td>\n",
       "      <td>...</td>\n",
       "      <td>25.740</td>\n",
       "      <td>39.42</td>\n",
       "      <td>184.60</td>\n",
       "      <td>1821.0</td>\n",
       "      <td>0.16500</td>\n",
       "      <td>0.86810</td>\n",
       "      <td>0.9387</td>\n",
       "      <td>0.2650</td>\n",
       "      <td>0.4087</td>\n",
       "      <td>0.12400</td>\n",
       "    </tr>\n",
       "    <tr>\n",
       "      <th>568</th>\n",
       "      <td>7.76</td>\n",
       "      <td>24.54</td>\n",
       "      <td>47.92</td>\n",
       "      <td>181.0</td>\n",
       "      <td>0.05263</td>\n",
       "      <td>0.04362</td>\n",
       "      <td>0.00000</td>\n",
       "      <td>0.00000</td>\n",
       "      <td>0.1587</td>\n",
       "      <td>0.05884</td>\n",
       "      <td>...</td>\n",
       "      <td>9.456</td>\n",
       "      <td>30.37</td>\n",
       "      <td>59.16</td>\n",
       "      <td>268.6</td>\n",
       "      <td>0.08996</td>\n",
       "      <td>0.06444</td>\n",
       "      <td>0.0000</td>\n",
       "      <td>0.0000</td>\n",
       "      <td>0.2871</td>\n",
       "      <td>0.07039</td>\n",
       "    </tr>\n",
       "  </tbody>\n",
       "</table>\n",
       "<p>569 rows × 30 columns</p>\n",
       "</div>"
      ],
      "text/plain": [
       "     mean radius  mean texture  mean perimeter  mean area  mean smoothness  \\\n",
       "0          17.99         10.38          122.80     1001.0          0.11840   \n",
       "1          20.57         17.77          132.90     1326.0          0.08474   \n",
       "2          19.69         21.25          130.00     1203.0          0.10960   \n",
       "3          11.42         20.38           77.58      386.1          0.14250   \n",
       "4          20.29         14.34          135.10     1297.0          0.10030   \n",
       "..           ...           ...             ...        ...              ...   \n",
       "564        21.56         22.39          142.00     1479.0          0.11100   \n",
       "565        20.13         28.25          131.20     1261.0          0.09780   \n",
       "566        16.60         28.08          108.30      858.1          0.08455   \n",
       "567        20.60         29.33          140.10     1265.0          0.11780   \n",
       "568         7.76         24.54           47.92      181.0          0.05263   \n",
       "\n",
       "     mean compactness  mean concavity  mean concave points  mean symmetry  \\\n",
       "0             0.27760         0.30010              0.14710         0.2419   \n",
       "1             0.07864         0.08690              0.07017         0.1812   \n",
       "2             0.15990         0.19740              0.12790         0.2069   \n",
       "3             0.28390         0.24140              0.10520         0.2597   \n",
       "4             0.13280         0.19800              0.10430         0.1809   \n",
       "..                ...             ...                  ...            ...   \n",
       "564           0.11590         0.24390              0.13890         0.1726   \n",
       "565           0.10340         0.14400              0.09791         0.1752   \n",
       "566           0.10230         0.09251              0.05302         0.1590   \n",
       "567           0.27700         0.35140              0.15200         0.2397   \n",
       "568           0.04362         0.00000              0.00000         0.1587   \n",
       "\n",
       "     mean fractal dimension  ...  worst radius  worst texture  \\\n",
       "0                   0.07871  ...        25.380          17.33   \n",
       "1                   0.05667  ...        24.990          23.41   \n",
       "2                   0.05999  ...        23.570          25.53   \n",
       "3                   0.09744  ...        14.910          26.50   \n",
       "4                   0.05883  ...        22.540          16.67   \n",
       "..                      ...  ...           ...            ...   \n",
       "564                 0.05623  ...        25.450          26.40   \n",
       "565                 0.05533  ...        23.690          38.25   \n",
       "566                 0.05648  ...        18.980          34.12   \n",
       "567                 0.07016  ...        25.740          39.42   \n",
       "568                 0.05884  ...         9.456          30.37   \n",
       "\n",
       "     worst perimeter  worst area  worst smoothness  worst compactness  \\\n",
       "0             184.60      2019.0           0.16220            0.66560   \n",
       "1             158.80      1956.0           0.12380            0.18660   \n",
       "2             152.50      1709.0           0.14440            0.42450   \n",
       "3              98.87       567.7           0.20980            0.86630   \n",
       "4             152.20      1575.0           0.13740            0.20500   \n",
       "..               ...         ...               ...                ...   \n",
       "564           166.10      2027.0           0.14100            0.21130   \n",
       "565           155.00      1731.0           0.11660            0.19220   \n",
       "566           126.70      1124.0           0.11390            0.30940   \n",
       "567           184.60      1821.0           0.16500            0.86810   \n",
       "568            59.16       268.6           0.08996            0.06444   \n",
       "\n",
       "     worst concavity  worst concave points  worst symmetry  \\\n",
       "0             0.7119                0.2654          0.4601   \n",
       "1             0.2416                0.1860          0.2750   \n",
       "2             0.4504                0.2430          0.3613   \n",
       "3             0.6869                0.2575          0.6638   \n",
       "4             0.4000                0.1625          0.2364   \n",
       "..               ...                   ...             ...   \n",
       "564           0.4107                0.2216          0.2060   \n",
       "565           0.3215                0.1628          0.2572   \n",
       "566           0.3403                0.1418          0.2218   \n",
       "567           0.9387                0.2650          0.4087   \n",
       "568           0.0000                0.0000          0.2871   \n",
       "\n",
       "     worst fractal dimension  \n",
       "0                    0.11890  \n",
       "1                    0.08902  \n",
       "2                    0.08758  \n",
       "3                    0.17300  \n",
       "4                    0.07678  \n",
       "..                       ...  \n",
       "564                  0.07115  \n",
       "565                  0.06637  \n",
       "566                  0.07820  \n",
       "567                  0.12400  \n",
       "568                  0.07039  \n",
       "\n",
       "[569 rows x 30 columns]"
      ]
     },
     "execution_count": 36,
     "metadata": {},
     "output_type": "execute_result"
    }
   ],
   "source": [
    "pd.DataFrame(data.data,columns=data.feature_names) "
   ]
  },
  {
   "cell_type": "markdown",
   "metadata": {},
   "source": [
    "\n",
    "## Features matrix\n",
    "\n",
    "**Here each row of the data refers to a single observed biopsy sample**, and the number of rows is the total number of samples in the dataset. Likewise, each column of the data refers to a particular quantitative piece of information\n",
    "that describes each sample. In general, we will refer to the columns of the matrix as features, and the number of columns as n_features.\n",
    "By convention, **this features matrix is often stored in a variable named X**"
   ]
  },
  {
   "cell_type": "code",
   "execution_count": 37,
   "metadata": {},
   "outputs": [
    {
     "name": "stdout",
     "output_type": "stream",
     "text": [
      "(569, 30)\n"
     ]
    },
    {
     "data": {
      "text/html": [
       "<div>\n",
       "<style scoped>\n",
       "    .dataframe tbody tr th:only-of-type {\n",
       "        vertical-align: middle;\n",
       "    }\n",
       "\n",
       "    .dataframe tbody tr th {\n",
       "        vertical-align: top;\n",
       "    }\n",
       "\n",
       "    .dataframe thead th {\n",
       "        text-align: right;\n",
       "    }\n",
       "</style>\n",
       "<table border=\"1\" class=\"dataframe\">\n",
       "  <thead>\n",
       "    <tr style=\"text-align: right;\">\n",
       "      <th></th>\n",
       "      <th>mean radius</th>\n",
       "      <th>mean texture</th>\n",
       "      <th>mean perimeter</th>\n",
       "      <th>mean area</th>\n",
       "      <th>mean smoothness</th>\n",
       "      <th>mean compactness</th>\n",
       "      <th>mean concavity</th>\n",
       "      <th>mean concave points</th>\n",
       "      <th>mean symmetry</th>\n",
       "      <th>mean fractal dimension</th>\n",
       "      <th>...</th>\n",
       "      <th>worst radius</th>\n",
       "      <th>worst texture</th>\n",
       "      <th>worst perimeter</th>\n",
       "      <th>worst area</th>\n",
       "      <th>worst smoothness</th>\n",
       "      <th>worst compactness</th>\n",
       "      <th>worst concavity</th>\n",
       "      <th>worst concave points</th>\n",
       "      <th>worst symmetry</th>\n",
       "      <th>worst fractal dimension</th>\n",
       "    </tr>\n",
       "  </thead>\n",
       "  <tbody>\n",
       "    <tr>\n",
       "      <th>0</th>\n",
       "      <td>17.99</td>\n",
       "      <td>10.38</td>\n",
       "      <td>122.80</td>\n",
       "      <td>1001.0</td>\n",
       "      <td>0.11840</td>\n",
       "      <td>0.27760</td>\n",
       "      <td>0.3001</td>\n",
       "      <td>0.14710</td>\n",
       "      <td>0.2419</td>\n",
       "      <td>0.07871</td>\n",
       "      <td>...</td>\n",
       "      <td>25.38</td>\n",
       "      <td>17.33</td>\n",
       "      <td>184.60</td>\n",
       "      <td>2019.0</td>\n",
       "      <td>0.1622</td>\n",
       "      <td>0.6656</td>\n",
       "      <td>0.7119</td>\n",
       "      <td>0.2654</td>\n",
       "      <td>0.4601</td>\n",
       "      <td>0.11890</td>\n",
       "    </tr>\n",
       "    <tr>\n",
       "      <th>1</th>\n",
       "      <td>20.57</td>\n",
       "      <td>17.77</td>\n",
       "      <td>132.90</td>\n",
       "      <td>1326.0</td>\n",
       "      <td>0.08474</td>\n",
       "      <td>0.07864</td>\n",
       "      <td>0.0869</td>\n",
       "      <td>0.07017</td>\n",
       "      <td>0.1812</td>\n",
       "      <td>0.05667</td>\n",
       "      <td>...</td>\n",
       "      <td>24.99</td>\n",
       "      <td>23.41</td>\n",
       "      <td>158.80</td>\n",
       "      <td>1956.0</td>\n",
       "      <td>0.1238</td>\n",
       "      <td>0.1866</td>\n",
       "      <td>0.2416</td>\n",
       "      <td>0.1860</td>\n",
       "      <td>0.2750</td>\n",
       "      <td>0.08902</td>\n",
       "    </tr>\n",
       "    <tr>\n",
       "      <th>2</th>\n",
       "      <td>19.69</td>\n",
       "      <td>21.25</td>\n",
       "      <td>130.00</td>\n",
       "      <td>1203.0</td>\n",
       "      <td>0.10960</td>\n",
       "      <td>0.15990</td>\n",
       "      <td>0.1974</td>\n",
       "      <td>0.12790</td>\n",
       "      <td>0.2069</td>\n",
       "      <td>0.05999</td>\n",
       "      <td>...</td>\n",
       "      <td>23.57</td>\n",
       "      <td>25.53</td>\n",
       "      <td>152.50</td>\n",
       "      <td>1709.0</td>\n",
       "      <td>0.1444</td>\n",
       "      <td>0.4245</td>\n",
       "      <td>0.4504</td>\n",
       "      <td>0.2430</td>\n",
       "      <td>0.3613</td>\n",
       "      <td>0.08758</td>\n",
       "    </tr>\n",
       "    <tr>\n",
       "      <th>3</th>\n",
       "      <td>11.42</td>\n",
       "      <td>20.38</td>\n",
       "      <td>77.58</td>\n",
       "      <td>386.1</td>\n",
       "      <td>0.14250</td>\n",
       "      <td>0.28390</td>\n",
       "      <td>0.2414</td>\n",
       "      <td>0.10520</td>\n",
       "      <td>0.2597</td>\n",
       "      <td>0.09744</td>\n",
       "      <td>...</td>\n",
       "      <td>14.91</td>\n",
       "      <td>26.50</td>\n",
       "      <td>98.87</td>\n",
       "      <td>567.7</td>\n",
       "      <td>0.2098</td>\n",
       "      <td>0.8663</td>\n",
       "      <td>0.6869</td>\n",
       "      <td>0.2575</td>\n",
       "      <td>0.6638</td>\n",
       "      <td>0.17300</td>\n",
       "    </tr>\n",
       "    <tr>\n",
       "      <th>4</th>\n",
       "      <td>20.29</td>\n",
       "      <td>14.34</td>\n",
       "      <td>135.10</td>\n",
       "      <td>1297.0</td>\n",
       "      <td>0.10030</td>\n",
       "      <td>0.13280</td>\n",
       "      <td>0.1980</td>\n",
       "      <td>0.10430</td>\n",
       "      <td>0.1809</td>\n",
       "      <td>0.05883</td>\n",
       "      <td>...</td>\n",
       "      <td>22.54</td>\n",
       "      <td>16.67</td>\n",
       "      <td>152.20</td>\n",
       "      <td>1575.0</td>\n",
       "      <td>0.1374</td>\n",
       "      <td>0.2050</td>\n",
       "      <td>0.4000</td>\n",
       "      <td>0.1625</td>\n",
       "      <td>0.2364</td>\n",
       "      <td>0.07678</td>\n",
       "    </tr>\n",
       "  </tbody>\n",
       "</table>\n",
       "<p>5 rows × 30 columns</p>\n",
       "</div>"
      ],
      "text/plain": [
       "   mean radius  mean texture  mean perimeter  mean area  mean smoothness  \\\n",
       "0        17.99         10.38          122.80     1001.0          0.11840   \n",
       "1        20.57         17.77          132.90     1326.0          0.08474   \n",
       "2        19.69         21.25          130.00     1203.0          0.10960   \n",
       "3        11.42         20.38           77.58      386.1          0.14250   \n",
       "4        20.29         14.34          135.10     1297.0          0.10030   \n",
       "\n",
       "   mean compactness  mean concavity  mean concave points  mean symmetry  \\\n",
       "0           0.27760          0.3001              0.14710         0.2419   \n",
       "1           0.07864          0.0869              0.07017         0.1812   \n",
       "2           0.15990          0.1974              0.12790         0.2069   \n",
       "3           0.28390          0.2414              0.10520         0.2597   \n",
       "4           0.13280          0.1980              0.10430         0.1809   \n",
       "\n",
       "   mean fractal dimension  ...  worst radius  worst texture  worst perimeter  \\\n",
       "0                 0.07871  ...         25.38          17.33           184.60   \n",
       "1                 0.05667  ...         24.99          23.41           158.80   \n",
       "2                 0.05999  ...         23.57          25.53           152.50   \n",
       "3                 0.09744  ...         14.91          26.50            98.87   \n",
       "4                 0.05883  ...         22.54          16.67           152.20   \n",
       "\n",
       "   worst area  worst smoothness  worst compactness  worst concavity  \\\n",
       "0      2019.0            0.1622             0.6656           0.7119   \n",
       "1      1956.0            0.1238             0.1866           0.2416   \n",
       "2      1709.0            0.1444             0.4245           0.4504   \n",
       "3       567.7            0.2098             0.8663           0.6869   \n",
       "4      1575.0            0.1374             0.2050           0.4000   \n",
       "\n",
       "   worst concave points  worst symmetry  worst fractal dimension  \n",
       "0                0.2654          0.4601                  0.11890  \n",
       "1                0.1860          0.2750                  0.08902  \n",
       "2                0.2430          0.3613                  0.08758  \n",
       "3                0.2575          0.6638                  0.17300  \n",
       "4                0.1625          0.2364                  0.07678  \n",
       "\n",
       "[5 rows x 30 columns]"
      ]
     },
     "execution_count": 37,
     "metadata": {},
     "output_type": "execute_result"
    }
   ],
   "source": [
    "# Features matrix \n",
    "df_X = pd.DataFrame(data.data,columns=data.feature_names) \n",
    "# feature DataFrame\n",
    "print(df_X.shape)\n",
    "\n",
    "df_X.head()"
   ]
  },
  {
   "cell_type": "markdown",
   "metadata": {},
   "source": [
    "## Target array\n",
    "In addition to the feature matrix X, we also generally work with a **label or target array**,\n",
    "which by convention we will usually call ***y***. The target array is usually one dimensional,\n",
    "with length n_samples. The target array **may have continuous numerical values, or discrete\n",
    "classes/labels**\n",
    "\n",
    "For example, in the our dataset we may wish to construct a model that can predict the\n",
    "type of breast cancer based on the features measurements\n",
    "\n",
    "**Diagnosis Class:**\n",
    "* malignant\n",
    "* benign"
   ]
  },
  {
   "cell_type": "code",
   "execution_count": 38,
   "metadata": {},
   "outputs": [
    {
     "name": "stdout",
     "output_type": "stream",
     "text": [
      "(569,)\n"
     ]
    },
    {
     "data": {
      "text/plain": [
       "119    malignant\n",
       "134    malignant\n",
       "Name: target, dtype: object"
      ]
     },
     "execution_count": 38,
     "metadata": {},
     "output_type": "execute_result"
    }
   ],
   "source": [
    "df_y = pd.Series([data.target_names[i] for i in data.target], name=\"target\")\n",
    "print(df_y.shape)\n",
    "df_y.sample(2)"
   ]
  },
  {
   "cell_type": "markdown",
   "metadata": {},
   "source": [
    "Data layout: df_X and df_y\n",
    "![](https://raw.githubusercontent.com/jakevdp/PythonDataScienceHandbook/master/notebooks/figures/05.02-samples-features.png)\n"
   ]
  },
  {
   "cell_type": "markdown",
   "metadata": {},
   "source": [
    "# Exploratory Data Analysis (EDA)\n",
    "Exploratory data analysis (EDA) is used by data scientists to analyze and investigate data sets and summarize their main characteristics, \n",
    "**It use data visualization methods to discover patterns, spot anomalies**, test a hypothesis, or check assumptions.\n",
    "It provides a better understanding of data set variables and the relationships between them\n",
    "\n"
   ]
  },
  {
   "cell_type": "markdown",
   "metadata": {},
   "source": [
    "## Data Preprocessing"
   ]
  },
  {
   "cell_type": "markdown",
   "metadata": {},
   "source": [
    "###  Encoding Categorical Values\n",
    "**Some data sets can contain categorical variables**. These variables are typically stored as text values which represent various traits. For example the temperature (\"high\", \"medium\", \"low\") or city name (\"paris\", \"tokyo\", \"milan\").\n",
    "**Many machine learning algorithms can support categorical values** without further manipulation **but there are many more algorithms that do not**. Therefore, we should convert these text attributes into numerical values for further processing."
   ]
  },
  {
   "cell_type": "code",
   "execution_count": 39,
   "metadata": {},
   "outputs": [
    {
     "data": {
      "text/plain": [
       "0      malignant\n",
       "1      malignant\n",
       "2      malignant\n",
       "3      malignant\n",
       "4      malignant\n",
       "         ...    \n",
       "564    malignant\n",
       "565    malignant\n",
       "566    malignant\n",
       "567    malignant\n",
       "568       benign\n",
       "Name: target, Length: 569, dtype: object"
      ]
     },
     "execution_count": 39,
     "metadata": {},
     "output_type": "execute_result"
    }
   ],
   "source": [
    "df_y"
   ]
  },
  {
   "cell_type": "markdown",
   "metadata": {},
   "source": [
    "[*sklearn.preprocessing.LabelEncoder*](https://scikit-learn.org/stable/modules/generated/sklearn.preprocessing.LabelEncoder.html) is a utility class to transform non-numerical labels to numerical labels such that they contain only values between 0 and n_classes-1. \n",
    "This transformer should be used to encode target values, i.e. y, and not the input X."
   ]
  },
  {
   "cell_type": "code",
   "execution_count": 40,
   "metadata": {},
   "outputs": [
    {
     "data": {
      "text/plain": [
       "array([1, 1, 1, 1, 1, 1, 1, 1, 1, 1, 1, 1, 1, 1, 1, 1, 1, 1, 1, 0])"
      ]
     },
     "execution_count": 40,
     "metadata": {},
     "output_type": "execute_result"
    }
   ],
   "source": [
    "from sklearn.preprocessing import  LabelEncoder\n",
    "# convert categorical variable into numerical variable\n",
    "le = LabelEncoder()\n",
    "le.fit_transform(df_y)[0:20]"
   ]
  },
  {
   "cell_type": "markdown",
   "metadata": {},
   "source": [
    "*Find and replace*: Pandas makes it easy for us to directly replace the text values with their numeric equivalent by using replace ."
   ]
  },
  {
   "cell_type": "code",
   "execution_count": 41,
   "metadata": {},
   "outputs": [
    {
     "data": {
      "text/plain": [
       "0    1\n",
       "1    1\n",
       "2    1\n",
       "3    1\n",
       "4    1\n",
       "Name: target, dtype: int64"
      ]
     },
     "execution_count": 41,
     "metadata": {},
     "output_type": "execute_result"
    }
   ],
   "source": [
    "# Encode target labels with value 1 for malignant and 0 for benign\n",
    "dict_lb_to_num = {'malignant':1, 'benign':0} # set malignat as true class\n",
    "df_y.replace(dict_lb_to_num).head()\n"
   ]
  },
  {
   "cell_type": "code",
   "execution_count": 42,
   "metadata": {},
   "outputs": [
    {
     "data": {
      "text/html": [
       "<div>\n",
       "<style scoped>\n",
       "    .dataframe tbody tr th:only-of-type {\n",
       "        vertical-align: middle;\n",
       "    }\n",
       "\n",
       "    .dataframe tbody tr th {\n",
       "        vertical-align: top;\n",
       "    }\n",
       "\n",
       "    .dataframe thead th {\n",
       "        text-align: right;\n",
       "    }\n",
       "</style>\n",
       "<table border=\"1\" class=\"dataframe\">\n",
       "  <thead>\n",
       "    <tr style=\"text-align: right;\">\n",
       "      <th></th>\n",
       "      <th>city</th>\n",
       "      <th>number</th>\n",
       "    </tr>\n",
       "  </thead>\n",
       "  <tbody>\n",
       "    <tr>\n",
       "      <th>0</th>\n",
       "      <td>paris</td>\n",
       "      <td>2</td>\n",
       "    </tr>\n",
       "    <tr>\n",
       "      <th>1</th>\n",
       "      <td>paris</td>\n",
       "      <td>3</td>\n",
       "    </tr>\n",
       "    <tr>\n",
       "      <th>2</th>\n",
       "      <td>tokyo</td>\n",
       "      <td>4</td>\n",
       "    </tr>\n",
       "    <tr>\n",
       "      <th>3</th>\n",
       "      <td>milan</td>\n",
       "      <td>5</td>\n",
       "    </tr>\n",
       "  </tbody>\n",
       "</table>\n",
       "</div>"
      ],
      "text/plain": [
       "    city  number\n",
       "0  paris       2\n",
       "1  paris       3\n",
       "2  tokyo       4\n",
       "3  milan       5"
      ]
     },
     "execution_count": 42,
     "metadata": {},
     "output_type": "execute_result"
    }
   ],
   "source": [
    "df_city= pd.DataFrame({'city':[\"paris\", \"paris\", \"tokyo\", \"milan\"],'number':[2,3,4,5]})\n",
    "df_city"
   ]
  },
  {
   "cell_type": "markdown",
   "metadata": {},
   "source": [
    "[*pandas.get_dummies*](https://pandas.pydata.org/pandas-docs/stable/reference/api/pandas.get_dummies.html) convert categorical variable into dummy/indicator variables. It takes only the value 0 or 1 to indicate the absence or presence of categorical values "
   ]
  },
  {
   "cell_type": "code",
   "execution_count": 43,
   "metadata": {},
   "outputs": [
    {
     "data": {
      "text/html": [
       "<div>\n",
       "<style scoped>\n",
       "    .dataframe tbody tr th:only-of-type {\n",
       "        vertical-align: middle;\n",
       "    }\n",
       "\n",
       "    .dataframe tbody tr th {\n",
       "        vertical-align: top;\n",
       "    }\n",
       "\n",
       "    .dataframe thead th {\n",
       "        text-align: right;\n",
       "    }\n",
       "</style>\n",
       "<table border=\"1\" class=\"dataframe\">\n",
       "  <thead>\n",
       "    <tr style=\"text-align: right;\">\n",
       "      <th></th>\n",
       "      <th>number</th>\n",
       "      <th>city_milan</th>\n",
       "      <th>city_paris</th>\n",
       "      <th>city_tokyo</th>\n",
       "    </tr>\n",
       "  </thead>\n",
       "  <tbody>\n",
       "    <tr>\n",
       "      <th>0</th>\n",
       "      <td>2</td>\n",
       "      <td>0</td>\n",
       "      <td>1</td>\n",
       "      <td>0</td>\n",
       "    </tr>\n",
       "    <tr>\n",
       "      <th>1</th>\n",
       "      <td>3</td>\n",
       "      <td>0</td>\n",
       "      <td>1</td>\n",
       "      <td>0</td>\n",
       "    </tr>\n",
       "    <tr>\n",
       "      <th>2</th>\n",
       "      <td>4</td>\n",
       "      <td>0</td>\n",
       "      <td>0</td>\n",
       "      <td>1</td>\n",
       "    </tr>\n",
       "    <tr>\n",
       "      <th>3</th>\n",
       "      <td>5</td>\n",
       "      <td>1</td>\n",
       "      <td>0</td>\n",
       "      <td>0</td>\n",
       "    </tr>\n",
       "  </tbody>\n",
       "</table>\n",
       "</div>"
      ],
      "text/plain": [
       "   number  city_milan  city_paris  city_tokyo\n",
       "0       2           0           1           0\n",
       "1       3           0           1           0\n",
       "2       4           0           0           1\n",
       "3       5           1           0           0"
      ]
     },
     "execution_count": 43,
     "metadata": {},
     "output_type": "execute_result"
    }
   ],
   "source": [
    "# it also called one-hot encoding which creates a binary variable (0/1) for each possible value,\n",
    "features_encoded = pd.get_dummies(df_city, columns=['city'])\n",
    "features_encoded"
   ]
  },
  {
   "cell_type": "markdown",
   "metadata": {},
   "source": [
    "<div class=\"alert alert-block alert-info\" style='color:black'>\n",
    "<b>Tip</b>      \n",
    "We apply get_dummies when:\n",
    "\n",
    "* The categorical (Nominal) variables are in features matrix\n",
    "\n",
    "We apply Label Encoding or Replace when:\n",
    "* The categorical variable is target array\n",
    "* The categorical (Ordinal) variables are in features matrix\n",
    "    \n",
    "</div>"
   ]
  },
  {
   "cell_type": "markdown",
   "metadata": {},
   "source": [
    "### Missing Values\n",
    "**It is not unusual for an object to be missing one or more attribute values.** In some cases, the information was not collected; while in other cases, some attributes are inapplicable to the data instances. This section presents examples on the different approaches for handling missing values.\n",
    "\n",
    "**Pandas treats None and NaN as essentially interchangeable for indicating missing or null values.** To facilitate this convention, there are several useful methods for detecting, removing, and replacing null values in Pandas data structures. They are:\n",
    "\n",
    "* [isnull()](https://pandas.pydata.org/pandas-docs/stable/reference/api/pandas.DataFrame.isnull.html): Generate a boolean mask indicating missing values\n",
    "* [notnull()](https://pandas.pydata.org/pandas-docs/stable/reference/api/pandas.DataFrame.notnull.html): Opposite of isnull()\n",
    "* [dropna()](https://pandas.pydata.org/pandas-docs/stable/reference/api/pandas.DataFrame.dropna.html): Return a filtered version of the data\n",
    "* [fillna()](https://pandas.pydata.org/pandas-docs/stable/reference/api/pandas.DataFrame.fillna.html): Return a copy of the data with missing values filled "
   ]
  },
  {
   "cell_type": "code",
   "execution_count": 44,
   "metadata": {},
   "outputs": [
    {
     "data": {
      "text/html": [
       "<div>\n",
       "<style scoped>\n",
       "    .dataframe tbody tr th:only-of-type {\n",
       "        vertical-align: middle;\n",
       "    }\n",
       "\n",
       "    .dataframe tbody tr th {\n",
       "        vertical-align: top;\n",
       "    }\n",
       "\n",
       "    .dataframe thead th {\n",
       "        text-align: right;\n",
       "    }\n",
       "</style>\n",
       "<table border=\"1\" class=\"dataframe\">\n",
       "  <thead>\n",
       "    <tr style=\"text-align: right;\">\n",
       "      <th></th>\n",
       "      <th>A</th>\n",
       "      <th>B</th>\n",
       "    </tr>\n",
       "  </thead>\n",
       "  <tbody>\n",
       "    <tr>\n",
       "      <th>0</th>\n",
       "      <td>3</td>\n",
       "      <td>2.0</td>\n",
       "    </tr>\n",
       "    <tr>\n",
       "      <th>1</th>\n",
       "      <td>3</td>\n",
       "      <td>NaN</td>\n",
       "    </tr>\n",
       "    <tr>\n",
       "      <th>2</th>\n",
       "      <td>4</td>\n",
       "      <td>4.0</td>\n",
       "    </tr>\n",
       "  </tbody>\n",
       "</table>\n",
       "</div>"
      ],
      "text/plain": [
       "   A    B\n",
       "0  3  2.0\n",
       "1  3  NaN\n",
       "2  4  4.0"
      ]
     },
     "execution_count": 44,
     "metadata": {},
     "output_type": "execute_result"
    }
   ],
   "source": [
    "df = pd.DataFrame([[3, 2 ],[3, np.nan],[4,4]], columns=list('AB'))\n",
    "df"
   ]
  },
  {
   "cell_type": "markdown",
   "metadata": {},
   "source": [
    "The *dropna()* function is used to remove missing values. Determine if rows or columns which contain missing values are removed. "
   ]
  },
  {
   "cell_type": "code",
   "execution_count": 45,
   "metadata": {},
   "outputs": [
    {
     "name": "stdout",
     "output_type": "stream",
     "text": [
      "Boolean mask\n",
      "       A      B\n",
      "0  False  False\n",
      "1  False   True\n",
      "2  False  False \n",
      "Drop missing values\n"
     ]
    },
    {
     "data": {
      "text/html": [
       "<div>\n",
       "<style scoped>\n",
       "    .dataframe tbody tr th:only-of-type {\n",
       "        vertical-align: middle;\n",
       "    }\n",
       "\n",
       "    .dataframe tbody tr th {\n",
       "        vertical-align: top;\n",
       "    }\n",
       "\n",
       "    .dataframe thead th {\n",
       "        text-align: right;\n",
       "    }\n",
       "</style>\n",
       "<table border=\"1\" class=\"dataframe\">\n",
       "  <thead>\n",
       "    <tr style=\"text-align: right;\">\n",
       "      <th></th>\n",
       "      <th>A</th>\n",
       "      <th>B</th>\n",
       "    </tr>\n",
       "  </thead>\n",
       "  <tbody>\n",
       "    <tr>\n",
       "      <th>0</th>\n",
       "      <td>3</td>\n",
       "      <td>2.0</td>\n",
       "    </tr>\n",
       "    <tr>\n",
       "      <th>2</th>\n",
       "      <td>4</td>\n",
       "      <td>4.0</td>\n",
       "    </tr>\n",
       "  </tbody>\n",
       "</table>\n",
       "</div>"
      ],
      "text/plain": [
       "   A    B\n",
       "0  3  2.0\n",
       "2  4  4.0"
      ]
     },
     "execution_count": 45,
     "metadata": {},
     "output_type": "execute_result"
    }
   ],
   "source": [
    "print(f'Boolean mask\\n{df.isnull()} \\nDrop missing values')\n",
    "df.dropna()\n"
   ]
  },
  {
   "cell_type": "code",
   "execution_count": 46,
   "metadata": {},
   "outputs": [],
   "source": [
    "#df[df.isnull().any(axis=1)]"
   ]
  },
  {
   "cell_type": "markdown",
   "metadata": {},
   "source": [
    "Drop columns with too many missing values "
   ]
  },
  {
   "cell_type": "code",
   "execution_count": 47,
   "metadata": {},
   "outputs": [
    {
     "data": {
      "text/html": [
       "<div>\n",
       "<style scoped>\n",
       "    .dataframe tbody tr th:only-of-type {\n",
       "        vertical-align: middle;\n",
       "    }\n",
       "\n",
       "    .dataframe tbody tr th {\n",
       "        vertical-align: top;\n",
       "    }\n",
       "\n",
       "    .dataframe thead th {\n",
       "        text-align: right;\n",
       "    }\n",
       "</style>\n",
       "<table border=\"1\" class=\"dataframe\">\n",
       "  <thead>\n",
       "    <tr style=\"text-align: right;\">\n",
       "      <th></th>\n",
       "      <th>A</th>\n",
       "      <th>B</th>\n",
       "    </tr>\n",
       "  </thead>\n",
       "  <tbody>\n",
       "    <tr>\n",
       "      <th>0</th>\n",
       "      <td>3</td>\n",
       "      <td>2.0</td>\n",
       "    </tr>\n",
       "    <tr>\n",
       "      <th>1</th>\n",
       "      <td>3</td>\n",
       "      <td>NaN</td>\n",
       "    </tr>\n",
       "    <tr>\n",
       "      <th>2</th>\n",
       "      <td>4</td>\n",
       "      <td>NaN</td>\n",
       "    </tr>\n",
       "  </tbody>\n",
       "</table>\n",
       "</div>"
      ],
      "text/plain": [
       "   A    B\n",
       "0  3  2.0\n",
       "1  3  NaN\n",
       "2  4  NaN"
      ]
     },
     "execution_count": 47,
     "metadata": {},
     "output_type": "execute_result"
    }
   ],
   "source": [
    "df_null = pd.DataFrame([[3, 2 ],[3, np.nan],[4,np.nan]], columns=list('AB'))\n",
    "df_null"
   ]
  },
  {
   "cell_type": "code",
   "execution_count": 48,
   "metadata": {},
   "outputs": [
    {
     "data": {
      "text/html": [
       "<div>\n",
       "<style scoped>\n",
       "    .dataframe tbody tr th:only-of-type {\n",
       "        vertical-align: middle;\n",
       "    }\n",
       "\n",
       "    .dataframe tbody tr th {\n",
       "        vertical-align: top;\n",
       "    }\n",
       "\n",
       "    .dataframe thead th {\n",
       "        text-align: right;\n",
       "    }\n",
       "</style>\n",
       "<table border=\"1\" class=\"dataframe\">\n",
       "  <thead>\n",
       "    <tr style=\"text-align: right;\">\n",
       "      <th></th>\n",
       "      <th>A</th>\n",
       "    </tr>\n",
       "  </thead>\n",
       "  <tbody>\n",
       "    <tr>\n",
       "      <th>0</th>\n",
       "      <td>3</td>\n",
       "    </tr>\n",
       "    <tr>\n",
       "      <th>1</th>\n",
       "      <td>3</td>\n",
       "    </tr>\n",
       "    <tr>\n",
       "      <th>2</th>\n",
       "      <td>4</td>\n",
       "    </tr>\n",
       "  </tbody>\n",
       "</table>\n",
       "</div>"
      ],
      "text/plain": [
       "   A\n",
       "0  3\n",
       "1  3\n",
       "2  4"
      ]
     },
     "execution_count": 48,
     "metadata": {},
     "output_type": "execute_result"
    }
   ],
   "source": [
    "df_null.dropna(axis=1)"
   ]
  },
  {
   "cell_type": "code",
   "execution_count": 49,
   "metadata": {},
   "outputs": [
    {
     "data": {
      "text/html": [
       "<div>\n",
       "<style scoped>\n",
       "    .dataframe tbody tr th:only-of-type {\n",
       "        vertical-align: middle;\n",
       "    }\n",
       "\n",
       "    .dataframe tbody tr th {\n",
       "        vertical-align: top;\n",
       "    }\n",
       "\n",
       "    .dataframe thead th {\n",
       "        text-align: right;\n",
       "    }\n",
       "</style>\n",
       "<table border=\"1\" class=\"dataframe\">\n",
       "  <thead>\n",
       "    <tr style=\"text-align: right;\">\n",
       "      <th></th>\n",
       "      <th>A</th>\n",
       "    </tr>\n",
       "  </thead>\n",
       "  <tbody>\n",
       "    <tr>\n",
       "      <th>0</th>\n",
       "      <td>3</td>\n",
       "    </tr>\n",
       "    <tr>\n",
       "      <th>1</th>\n",
       "      <td>3</td>\n",
       "    </tr>\n",
       "    <tr>\n",
       "      <th>2</th>\n",
       "      <td>4</td>\n",
       "    </tr>\n",
       "  </tbody>\n",
       "</table>\n",
       "</div>"
      ],
      "text/plain": [
       "   A\n",
       "0  3\n",
       "1  3\n",
       "2  4"
      ]
     },
     "execution_count": 49,
     "metadata": {},
     "output_type": "execute_result"
    }
   ],
   "source": [
    "# Drop columns using that limit\n",
    "limit = len(df_null) * 0.7\n",
    "df_null.dropna(axis=1, thresh=limit) # columns having null values more than or equal to 70 percent are dropped from the dataframe"
   ]
  },
  {
   "cell_type": "markdown",
   "metadata": {},
   "source": [
    "In the following example, the missing values in the 'B' column are replaced by the median value of that column. The values before and after replacement are shown for a subset of the data points."
   ]
  },
  {
   "cell_type": "code",
   "execution_count": 50,
   "metadata": {},
   "outputs": [
    {
     "name": "stdout",
     "output_type": "stream",
     "text": [
      "Replace missing value in 'B' column by the median value \n",
      "   A    B\n",
      "0  3  2.0\n",
      "1  3  3.0\n",
      "2  4  4.0\n"
     ]
    }
   ],
   "source": [
    "df['B'] =  df.B.fillna(df.B.median()) # median() exclude NA/null values when computing the result by default\n",
    "print(f\"Replace missing value in 'B' column by the median value \\n{df}\")\n"
   ]
  },
  {
   "cell_type": "markdown",
   "metadata": {},
   "source": [
    "<div class=\"alert alert-block alert-info\" style='color:black'>\n",
    "<b>Tip</b>  \n",
    "    The mean of the numerical column data is used to replace null values when the data is normally distributed. Median is used if the data comprised of outliers. Mode is used when the data having more occurences of a particular value or more frequent value.\n",
    "    </div>"
   ]
  },
  {
   "cell_type": "markdown",
   "metadata": {},
   "source": [
    "There aren't null values in our dataset! \n"
   ]
  },
  {
   "cell_type": "code",
   "execution_count": 51,
   "metadata": {},
   "outputs": [
    {
     "name": "stdout",
     "output_type": "stream",
     "text": [
      "Are there null target values?  False\n",
      "Are there null features values?  False\n"
     ]
    }
   ],
   "source": [
    "print('Are there null target values? ',df_y.isnull().values.any())\n",
    "print('Are there null features values? ',df_X.isnull().values.any())"
   ]
  },
  {
   "cell_type": "markdown",
   "metadata": {},
   "source": [
    "### Duplication"
   ]
  },
  {
   "cell_type": "markdown",
   "metadata": {},
   "source": [
    "Some datasets, especially those obtained by merging multiple data sources, may contain duplicates or near duplicate instances. \n",
    "\n",
    "We  check for duplicate instances in the breast cancer dataset:\n",
    "* [*duplicated()*](https://pandas.pydata.org/pandas-docs/stable/reference/api/pandas.DataFrame.duplicated.html): return boolean Series denoting duplicate rows."
   ]
  },
  {
   "cell_type": "code",
   "execution_count": 52,
   "metadata": {},
   "outputs": [
    {
     "name": "stdout",
     "output_type": "stream",
     "text": [
      "Number of duplicate rows = 0\n"
     ]
    }
   ],
   "source": [
    "data = pd.concat([df_X,df_y], axis=1) \n",
    "dups = data.duplicated()\n",
    "print('Number of duplicate rows = %d' % (dups.any()))\n",
    "data = data.drop_duplicates() #  drop_duplicates return DataFrame with duplicate rows removed.\n"
   ]
  },
  {
   "cell_type": "markdown",
   "metadata": {},
   "source": [
    "There aren't duplicate instances! "
   ]
  },
  {
   "cell_type": "markdown",
   "metadata": {},
   "source": [
    "### Scaling\n",
    "Dataset can contains different magnitude, units and range. Scaling is a method used to normalize the range of independent variables or features of data. \n",
    "\n",
    "\n"
   ]
  },
  {
   "cell_type": "code",
   "execution_count": 53,
   "metadata": {},
   "outputs": [
    {
     "name": "stdout",
     "output_type": "stream",
     "text": [
      "   height_cm  weight_kg\n",
      "A        180         60\n",
      "B        180         58\n",
      "C        100         59\n",
      "   height_m  weight_gr\n",
      "A       1.8      60000\n",
      "B       1.8      58000\n",
      "C       1.0      59000\n"
     ]
    },
    {
     "data": {
      "image/png": "[encoded data removed]",
      "text/plain": [
       "<Figure size 432x288 with 2 Axes>"
      ]
     },
     "metadata": {
      "needs_background": "light"
     },
     "output_type": "display_data"
    },
    {
     "data": {
      "image/png": "[encoded data removed]",
      "text/plain": [
       "<Figure size 432x288 with 2 Axes>"
      ]
     },
     "metadata": {
      "needs_background": "light"
     },
     "output_type": "display_data"
    }
   ],
   "source": [
    "# Example: Why is data scaling important?\n",
    "from sklearn.metrics.pairwise import euclidean_distances #compute the distance matrix between each pair of vectors.\n",
    "\n",
    "# 3 people A,B,C\n",
    "df_cm_kg = pd.DataFrame({'height_cm':[180,180,100 ], 'weight_kg':[60,58,59]}, index=['A','B','C'])\n",
    "df_m_gr = pd.DataFrame({'height_m':[1.8,1.8,1.0], 'weight_gr':[60000,58000,59000]}, index=['A','B','C'])\n",
    "print(df_cm_kg)\n",
    "print(df_m_gr)\n",
    "\n",
    "\n",
    "\n",
    "sns.heatmap(euclidean_distances(df_cm_kg),   annot=True, fmt=\".2f\",yticklabels=['A','B','C'],xticklabels=['A','B','C'])\n",
    "plt.show()\n",
    "sns.heatmap(euclidean_distances(df_m_gr),   annot=True, fmt=\".2f\",yticklabels=['A','B','C'],xticklabels=['A','B','C'])\n",
    "plt.show()"
   ]
  },
  {
   "cell_type": "markdown",
   "metadata": {},
   "source": [
    "**Why is data scaling important?**\n",
    "1. Before comparing the features distribution, because differences between values of features are very high to observe on plot\n",
    "2. Many ML algorithm calculate the distance between two points by the Euclidean distance during the training phase. **The range of all features should be normalized so that each feature contributes proportionately to the final distance.**\n",
    "\n",
    "[*sklearn.preprocessing.StandardScaler*](https://scikit-learn.org/stable/modules/generated/sklearn.preprocessing.StandardScaler.html) standardizes the features by removing the mean and scaling to unit variance. The standard score (*z-scores*) of a sample x is calculated as:\n",
    "\n",
    "`z = (x - u) / s`\n",
    "\n",
    "where u is the mean of the data samples  and s is the standard deviation of the data samples."
   ]
  },
  {
   "cell_type": "code",
   "execution_count": 54,
   "metadata": {},
   "outputs": [
    {
     "data": {
      "text/html": [
       "<div>\n",
       "<style scoped>\n",
       "    .dataframe tbody tr th:only-of-type {\n",
       "        vertical-align: middle;\n",
       "    }\n",
       "\n",
       "    .dataframe tbody tr th {\n",
       "        vertical-align: top;\n",
       "    }\n",
       "\n",
       "    .dataframe thead th {\n",
       "        text-align: right;\n",
       "    }\n",
       "</style>\n",
       "<table border=\"1\" class=\"dataframe\">\n",
       "  <thead>\n",
       "    <tr style=\"text-align: right;\">\n",
       "      <th></th>\n",
       "      <th>mean radius</th>\n",
       "      <th>mean texture</th>\n",
       "      <th>mean perimeter</th>\n",
       "      <th>mean area</th>\n",
       "      <th>mean smoothness</th>\n",
       "      <th>mean compactness</th>\n",
       "      <th>mean concavity</th>\n",
       "      <th>mean concave points</th>\n",
       "      <th>mean symmetry</th>\n",
       "      <th>mean fractal dimension</th>\n",
       "      <th>...</th>\n",
       "      <th>worst radius</th>\n",
       "      <th>worst texture</th>\n",
       "      <th>worst perimeter</th>\n",
       "      <th>worst area</th>\n",
       "      <th>worst smoothness</th>\n",
       "      <th>worst compactness</th>\n",
       "      <th>worst concavity</th>\n",
       "      <th>worst concave points</th>\n",
       "      <th>worst symmetry</th>\n",
       "      <th>worst fractal dimension</th>\n",
       "    </tr>\n",
       "  </thead>\n",
       "  <tbody>\n",
       "    <tr>\n",
       "      <th>0</th>\n",
       "      <td>1.097064</td>\n",
       "      <td>-2.073335</td>\n",
       "      <td>1.269934</td>\n",
       "      <td>0.984375</td>\n",
       "      <td>1.568466</td>\n",
       "      <td>3.283515</td>\n",
       "      <td>2.652874</td>\n",
       "      <td>2.532475</td>\n",
       "      <td>2.217515</td>\n",
       "      <td>2.255747</td>\n",
       "      <td>...</td>\n",
       "      <td>1.886690</td>\n",
       "      <td>-1.359293</td>\n",
       "      <td>2.303601</td>\n",
       "      <td>2.001237</td>\n",
       "      <td>1.307686</td>\n",
       "      <td>2.616665</td>\n",
       "      <td>2.109526</td>\n",
       "      <td>2.296076</td>\n",
       "      <td>2.750622</td>\n",
       "      <td>1.937015</td>\n",
       "    </tr>\n",
       "    <tr>\n",
       "      <th>1</th>\n",
       "      <td>1.829821</td>\n",
       "      <td>-0.353632</td>\n",
       "      <td>1.685955</td>\n",
       "      <td>1.908708</td>\n",
       "      <td>-0.826962</td>\n",
       "      <td>-0.487072</td>\n",
       "      <td>-0.023846</td>\n",
       "      <td>0.548144</td>\n",
       "      <td>0.001392</td>\n",
       "      <td>-0.868652</td>\n",
       "      <td>...</td>\n",
       "      <td>1.805927</td>\n",
       "      <td>-0.369203</td>\n",
       "      <td>1.535126</td>\n",
       "      <td>1.890489</td>\n",
       "      <td>-0.375612</td>\n",
       "      <td>-0.430444</td>\n",
       "      <td>-0.146749</td>\n",
       "      <td>1.087084</td>\n",
       "      <td>-0.243890</td>\n",
       "      <td>0.281190</td>\n",
       "    </tr>\n",
       "  </tbody>\n",
       "</table>\n",
       "<p>2 rows × 30 columns</p>\n",
       "</div>"
      ],
      "text/plain": [
       "   mean radius  mean texture  mean perimeter  mean area  mean smoothness  \\\n",
       "0     1.097064     -2.073335        1.269934   0.984375         1.568466   \n",
       "1     1.829821     -0.353632        1.685955   1.908708        -0.826962   \n",
       "\n",
       "   mean compactness  mean concavity  mean concave points  mean symmetry  \\\n",
       "0          3.283515        2.652874             2.532475       2.217515   \n",
       "1         -0.487072       -0.023846             0.548144       0.001392   \n",
       "\n",
       "   mean fractal dimension  ...  worst radius  worst texture  worst perimeter  \\\n",
       "0                2.255747  ...      1.886690      -1.359293         2.303601   \n",
       "1               -0.868652  ...      1.805927      -0.369203         1.535126   \n",
       "\n",
       "   worst area  worst smoothness  worst compactness  worst concavity  \\\n",
       "0    2.001237          1.307686           2.616665         2.109526   \n",
       "1    1.890489         -0.375612          -0.430444        -0.146749   \n",
       "\n",
       "   worst concave points  worst symmetry  worst fractal dimension  \n",
       "0              2.296076        2.750622                 1.937015  \n",
       "1              1.087084       -0.243890                 0.281190  \n",
       "\n",
       "[2 rows x 30 columns]"
      ]
     },
     "execution_count": 54,
     "metadata": {},
     "output_type": "execute_result"
    }
   ],
   "source": [
    "from sklearn.preprocessing import StandardScaler #for Scaling the features\n",
    "scaler = StandardScaler()\n",
    "\n",
    "scaled_features =scaler.fit_transform(df_X.values)\n",
    "\n",
    "df_X_scaled = pd.DataFrame(scaled_features, index=df_X.index, columns=df_X.columns)\n",
    "df_X_scaled.head(2)"
   ]
  },
  {
   "cell_type": "code",
   "execution_count": 55,
   "metadata": {},
   "outputs": [
    {
     "data": {
      "text/plain": [
       "array([[1.799e+01, 1.038e+01, 1.228e+02, ..., 2.654e-01, 4.601e-01,\n",
       "        1.189e-01],\n",
       "       [2.057e+01, 1.777e+01, 1.329e+02, ..., 1.860e-01, 2.750e-01,\n",
       "        8.902e-02],\n",
       "       [1.969e+01, 2.125e+01, 1.300e+02, ..., 2.430e-01, 3.613e-01,\n",
       "        8.758e-02],\n",
       "       ...,\n",
       "       [1.660e+01, 2.808e+01, 1.083e+02, ..., 1.418e-01, 2.218e-01,\n",
       "        7.820e-02],\n",
       "       [2.060e+01, 2.933e+01, 1.401e+02, ..., 2.650e-01, 4.087e-01,\n",
       "        1.240e-01],\n",
       "       [7.760e+00, 2.454e+01, 4.792e+01, ..., 0.000e+00, 2.871e-01,\n",
       "        7.039e-02]])"
      ]
     },
     "execution_count": 55,
     "metadata": {},
     "output_type": "execute_result"
    }
   ],
   "source": [
    "\n",
    "scaler.inverse_transform(df_X_scaled.values)"
   ]
  },
  {
   "cell_type": "code",
   "execution_count": 56,
   "metadata": {},
   "outputs": [
    {
     "data": {
      "text/html": [
       "<div>\n",
       "<style scoped>\n",
       "    .dataframe tbody tr th:only-of-type {\n",
       "        vertical-align: middle;\n",
       "    }\n",
       "\n",
       "    .dataframe tbody tr th {\n",
       "        vertical-align: top;\n",
       "    }\n",
       "\n",
       "    .dataframe thead th {\n",
       "        text-align: right;\n",
       "    }\n",
       "</style>\n",
       "<table border=\"1\" class=\"dataframe\">\n",
       "  <thead>\n",
       "    <tr style=\"text-align: right;\">\n",
       "      <th></th>\n",
       "      <th>mean radius</th>\n",
       "      <th>mean texture</th>\n",
       "      <th>mean perimeter</th>\n",
       "      <th>mean area</th>\n",
       "      <th>mean smoothness</th>\n",
       "      <th>mean compactness</th>\n",
       "      <th>mean concavity</th>\n",
       "      <th>mean concave points</th>\n",
       "      <th>mean symmetry</th>\n",
       "      <th>mean fractal dimension</th>\n",
       "      <th>...</th>\n",
       "      <th>worst radius</th>\n",
       "      <th>worst texture</th>\n",
       "      <th>worst perimeter</th>\n",
       "      <th>worst area</th>\n",
       "      <th>worst smoothness</th>\n",
       "      <th>worst compactness</th>\n",
       "      <th>worst concavity</th>\n",
       "      <th>worst concave points</th>\n",
       "      <th>worst symmetry</th>\n",
       "      <th>worst fractal dimension</th>\n",
       "    </tr>\n",
       "  </thead>\n",
       "  <tbody>\n",
       "    <tr>\n",
       "      <th>0</th>\n",
       "      <td>1.096100</td>\n",
       "      <td>-2.071512</td>\n",
       "      <td>1.268817</td>\n",
       "      <td>0.983510</td>\n",
       "      <td>1.567087</td>\n",
       "      <td>3.280628</td>\n",
       "      <td>2.650542</td>\n",
       "      <td>2.530249</td>\n",
       "      <td>2.215566</td>\n",
       "      <td>2.253764</td>\n",
       "      <td>...</td>\n",
       "      <td>1.885031</td>\n",
       "      <td>-1.358098</td>\n",
       "      <td>2.301575</td>\n",
       "      <td>1.999478</td>\n",
       "      <td>1.306537</td>\n",
       "      <td>2.614365</td>\n",
       "      <td>2.107672</td>\n",
       "      <td>2.294058</td>\n",
       "      <td>2.748204</td>\n",
       "      <td>1.935312</td>\n",
       "    </tr>\n",
       "    <tr>\n",
       "      <th>1</th>\n",
       "      <td>1.828212</td>\n",
       "      <td>-0.353322</td>\n",
       "      <td>1.684473</td>\n",
       "      <td>1.907030</td>\n",
       "      <td>-0.826235</td>\n",
       "      <td>-0.486643</td>\n",
       "      <td>-0.023825</td>\n",
       "      <td>0.547662</td>\n",
       "      <td>0.001391</td>\n",
       "      <td>-0.867889</td>\n",
       "      <td>...</td>\n",
       "      <td>1.804340</td>\n",
       "      <td>-0.368879</td>\n",
       "      <td>1.533776</td>\n",
       "      <td>1.888827</td>\n",
       "      <td>-0.375282</td>\n",
       "      <td>-0.430066</td>\n",
       "      <td>-0.146620</td>\n",
       "      <td>1.086129</td>\n",
       "      <td>-0.243675</td>\n",
       "      <td>0.280943</td>\n",
       "    </tr>\n",
       "    <tr>\n",
       "      <th>2</th>\n",
       "      <td>1.578499</td>\n",
       "      <td>0.455786</td>\n",
       "      <td>1.565126</td>\n",
       "      <td>1.557513</td>\n",
       "      <td>0.941382</td>\n",
       "      <td>1.052000</td>\n",
       "      <td>1.362280</td>\n",
       "      <td>2.035440</td>\n",
       "      <td>0.938859</td>\n",
       "      <td>-0.397658</td>\n",
       "      <td>...</td>\n",
       "      <td>1.510541</td>\n",
       "      <td>-0.023953</td>\n",
       "      <td>1.346291</td>\n",
       "      <td>1.455004</td>\n",
       "      <td>0.526944</td>\n",
       "      <td>1.081980</td>\n",
       "      <td>0.854222</td>\n",
       "      <td>1.953282</td>\n",
       "      <td>1.151242</td>\n",
       "      <td>0.201214</td>\n",
       "    </tr>\n",
       "    <tr>\n",
       "      <th>3</th>\n",
       "      <td>-0.768233</td>\n",
       "      <td>0.253509</td>\n",
       "      <td>-0.592166</td>\n",
       "      <td>-0.763792</td>\n",
       "      <td>3.280667</td>\n",
       "      <td>3.399917</td>\n",
       "      <td>1.914213</td>\n",
       "      <td>1.450431</td>\n",
       "      <td>2.864862</td>\n",
       "      <td>4.906602</td>\n",
       "      <td>...</td>\n",
       "      <td>-0.281217</td>\n",
       "      <td>0.133866</td>\n",
       "      <td>-0.249720</td>\n",
       "      <td>-0.549538</td>\n",
       "      <td>3.391291</td>\n",
       "      <td>3.889975</td>\n",
       "      <td>1.987839</td>\n",
       "      <td>2.173873</td>\n",
       "      <td>6.040726</td>\n",
       "      <td>4.930672</td>\n",
       "    </tr>\n",
       "    <tr>\n",
       "      <th>4</th>\n",
       "      <td>1.748758</td>\n",
       "      <td>-1.150804</td>\n",
       "      <td>1.775011</td>\n",
       "      <td>1.824624</td>\n",
       "      <td>0.280125</td>\n",
       "      <td>0.538866</td>\n",
       "      <td>1.369806</td>\n",
       "      <td>1.427237</td>\n",
       "      <td>-0.009552</td>\n",
       "      <td>-0.561956</td>\n",
       "      <td>...</td>\n",
       "      <td>1.297434</td>\n",
       "      <td>-1.465481</td>\n",
       "      <td>1.337363</td>\n",
       "      <td>1.219651</td>\n",
       "      <td>0.220362</td>\n",
       "      <td>-0.313119</td>\n",
       "      <td>0.612640</td>\n",
       "      <td>0.728618</td>\n",
       "      <td>-0.867590</td>\n",
       "      <td>-0.396751</td>\n",
       "    </tr>\n",
       "    <tr>\n",
       "      <th>...</th>\n",
       "      <td>...</td>\n",
       "      <td>...</td>\n",
       "      <td>...</td>\n",
       "      <td>...</td>\n",
       "      <td>...</td>\n",
       "      <td>...</td>\n",
       "      <td>...</td>\n",
       "      <td>...</td>\n",
       "      <td>...</td>\n",
       "      <td>...</td>\n",
       "      <td>...</td>\n",
       "      <td>...</td>\n",
       "      <td>...</td>\n",
       "      <td>...</td>\n",
       "      <td>...</td>\n",
       "      <td>...</td>\n",
       "      <td>...</td>\n",
       "      <td>...</td>\n",
       "      <td>...</td>\n",
       "      <td>...</td>\n",
       "      <td>...</td>\n",
       "    </tr>\n",
       "    <tr>\n",
       "      <th>564</th>\n",
       "      <td>2.109139</td>\n",
       "      <td>0.720838</td>\n",
       "      <td>2.058974</td>\n",
       "      <td>2.341795</td>\n",
       "      <td>1.040926</td>\n",
       "      <td>0.218868</td>\n",
       "      <td>1.945573</td>\n",
       "      <td>2.318924</td>\n",
       "      <td>-0.312314</td>\n",
       "      <td>-0.930209</td>\n",
       "      <td>...</td>\n",
       "      <td>1.899514</td>\n",
       "      <td>0.117596</td>\n",
       "      <td>1.751022</td>\n",
       "      <td>2.013529</td>\n",
       "      <td>0.378033</td>\n",
       "      <td>-0.273077</td>\n",
       "      <td>0.663928</td>\n",
       "      <td>1.627719</td>\n",
       "      <td>-1.358963</td>\n",
       "      <td>-0.708467</td>\n",
       "    </tr>\n",
       "    <tr>\n",
       "      <th>565</th>\n",
       "      <td>1.703356</td>\n",
       "      <td>2.083301</td>\n",
       "      <td>1.614511</td>\n",
       "      <td>1.722326</td>\n",
       "      <td>0.102368</td>\n",
       "      <td>-0.017817</td>\n",
       "      <td>0.692434</td>\n",
       "      <td>1.262558</td>\n",
       "      <td>-0.217473</td>\n",
       "      <td>-1.057681</td>\n",
       "      <td>...</td>\n",
       "      <td>1.535369</td>\n",
       "      <td>2.045599</td>\n",
       "      <td>1.420690</td>\n",
       "      <td>1.493644</td>\n",
       "      <td>-0.690623</td>\n",
       "      <td>-0.394473</td>\n",
       "      <td>0.236365</td>\n",
       "      <td>0.733182</td>\n",
       "      <td>-0.531387</td>\n",
       "      <td>-0.973122</td>\n",
       "    </tr>\n",
       "    <tr>\n",
       "      <th>566</th>\n",
       "      <td>0.701667</td>\n",
       "      <td>2.043775</td>\n",
       "      <td>0.672084</td>\n",
       "      <td>0.577445</td>\n",
       "      <td>-0.839745</td>\n",
       "      <td>-0.038646</td>\n",
       "      <td>0.046547</td>\n",
       "      <td>0.105684</td>\n",
       "      <td>-0.808406</td>\n",
       "      <td>-0.894800</td>\n",
       "      <td>...</td>\n",
       "      <td>0.560868</td>\n",
       "      <td>1.373645</td>\n",
       "      <td>0.578492</td>\n",
       "      <td>0.427529</td>\n",
       "      <td>-0.808876</td>\n",
       "      <td>0.350427</td>\n",
       "      <td>0.326479</td>\n",
       "      <td>0.413705</td>\n",
       "      <td>-1.103578</td>\n",
       "      <td>-0.318129</td>\n",
       "    </tr>\n",
       "    <tr>\n",
       "      <th>567</th>\n",
       "      <td>1.836725</td>\n",
       "      <td>2.334403</td>\n",
       "      <td>1.980781</td>\n",
       "      <td>1.733693</td>\n",
       "      <td>1.524426</td>\n",
       "      <td>3.269267</td>\n",
       "      <td>3.294046</td>\n",
       "      <td>2.656528</td>\n",
       "      <td>2.135315</td>\n",
       "      <td>1.042778</td>\n",
       "      <td>...</td>\n",
       "      <td>1.959515</td>\n",
       "      <td>2.235958</td>\n",
       "      <td>2.301575</td>\n",
       "      <td>1.651717</td>\n",
       "      <td>1.429169</td>\n",
       "      <td>3.901415</td>\n",
       "      <td>3.194794</td>\n",
       "      <td>2.287972</td>\n",
       "      <td>1.917396</td>\n",
       "      <td>2.217684</td>\n",
       "    </tr>\n",
       "    <tr>\n",
       "      <th>568</th>\n",
       "      <td>-1.806811</td>\n",
       "      <td>1.220718</td>\n",
       "      <td>-1.812793</td>\n",
       "      <td>-1.346604</td>\n",
       "      <td>-3.109349</td>\n",
       "      <td>-1.149741</td>\n",
       "      <td>-1.113893</td>\n",
       "      <td>-1.260710</td>\n",
       "      <td>-0.819349</td>\n",
       "      <td>-0.560539</td>\n",
       "      <td>...</td>\n",
       "      <td>-1.409652</td>\n",
       "      <td>0.763518</td>\n",
       "      <td>-1.431475</td>\n",
       "      <td>-1.074867</td>\n",
       "      <td>-1.857384</td>\n",
       "      <td>-1.206491</td>\n",
       "      <td>-1.304683</td>\n",
       "      <td>-1.743529</td>\n",
       "      <td>-0.048096</td>\n",
       "      <td>-0.750546</td>\n",
       "    </tr>\n",
       "  </tbody>\n",
       "</table>\n",
       "<p>569 rows × 30 columns</p>\n",
       "</div>"
      ],
      "text/plain": [
       "     mean radius  mean texture  mean perimeter  mean area  mean smoothness  \\\n",
       "0       1.096100     -2.071512        1.268817   0.983510         1.567087   \n",
       "1       1.828212     -0.353322        1.684473   1.907030        -0.826235   \n",
       "2       1.578499      0.455786        1.565126   1.557513         0.941382   \n",
       "3      -0.768233      0.253509       -0.592166  -0.763792         3.280667   \n",
       "4       1.748758     -1.150804        1.775011   1.824624         0.280125   \n",
       "..           ...           ...             ...        ...              ...   \n",
       "564     2.109139      0.720838        2.058974   2.341795         1.040926   \n",
       "565     1.703356      2.083301        1.614511   1.722326         0.102368   \n",
       "566     0.701667      2.043775        0.672084   0.577445        -0.839745   \n",
       "567     1.836725      2.334403        1.980781   1.733693         1.524426   \n",
       "568    -1.806811      1.220718       -1.812793  -1.346604        -3.109349   \n",
       "\n",
       "     mean compactness  mean concavity  mean concave points  mean symmetry  \\\n",
       "0            3.280628        2.650542             2.530249       2.215566   \n",
       "1           -0.486643       -0.023825             0.547662       0.001391   \n",
       "2            1.052000        1.362280             2.035440       0.938859   \n",
       "3            3.399917        1.914213             1.450431       2.864862   \n",
       "4            0.538866        1.369806             1.427237      -0.009552   \n",
       "..                ...             ...                  ...            ...   \n",
       "564          0.218868        1.945573             2.318924      -0.312314   \n",
       "565         -0.017817        0.692434             1.262558      -0.217473   \n",
       "566         -0.038646        0.046547             0.105684      -0.808406   \n",
       "567          3.269267        3.294046             2.656528       2.135315   \n",
       "568         -1.149741       -1.113893            -1.260710      -0.819349   \n",
       "\n",
       "     mean fractal dimension  ...  worst radius  worst texture  \\\n",
       "0                  2.253764  ...      1.885031      -1.358098   \n",
       "1                 -0.867889  ...      1.804340      -0.368879   \n",
       "2                 -0.397658  ...      1.510541      -0.023953   \n",
       "3                  4.906602  ...     -0.281217       0.133866   \n",
       "4                 -0.561956  ...      1.297434      -1.465481   \n",
       "..                      ...  ...           ...            ...   \n",
       "564               -0.930209  ...      1.899514       0.117596   \n",
       "565               -1.057681  ...      1.535369       2.045599   \n",
       "566               -0.894800  ...      0.560868       1.373645   \n",
       "567                1.042778  ...      1.959515       2.235958   \n",
       "568               -0.560539  ...     -1.409652       0.763518   \n",
       "\n",
       "     worst perimeter  worst area  worst smoothness  worst compactness  \\\n",
       "0           2.301575    1.999478          1.306537           2.614365   \n",
       "1           1.533776    1.888827         -0.375282          -0.430066   \n",
       "2           1.346291    1.455004          0.526944           1.081980   \n",
       "3          -0.249720   -0.549538          3.391291           3.889975   \n",
       "4           1.337363    1.219651          0.220362          -0.313119   \n",
       "..               ...         ...               ...                ...   \n",
       "564         1.751022    2.013529          0.378033          -0.273077   \n",
       "565         1.420690    1.493644         -0.690623          -0.394473   \n",
       "566         0.578492    0.427529         -0.808876           0.350427   \n",
       "567         2.301575    1.651717          1.429169           3.901415   \n",
       "568        -1.431475   -1.074867         -1.857384          -1.206491   \n",
       "\n",
       "     worst concavity  worst concave points  worst symmetry  \\\n",
       "0           2.107672              2.294058        2.748204   \n",
       "1          -0.146620              1.086129       -0.243675   \n",
       "2           0.854222              1.953282        1.151242   \n",
       "3           1.987839              2.173873        6.040726   \n",
       "4           0.612640              0.728618       -0.867590   \n",
       "..               ...                   ...             ...   \n",
       "564         0.663928              1.627719       -1.358963   \n",
       "565         0.236365              0.733182       -0.531387   \n",
       "566         0.326479              0.413705       -1.103578   \n",
       "567         3.194794              2.287972        1.917396   \n",
       "568        -1.304683             -1.743529       -0.048096   \n",
       "\n",
       "     worst fractal dimension  \n",
       "0                   1.935312  \n",
       "1                   0.280943  \n",
       "2                   0.201214  \n",
       "3                   4.930672  \n",
       "4                  -0.396751  \n",
       "..                       ...  \n",
       "564                -0.708467  \n",
       "565                -0.973122  \n",
       "566                -0.318129  \n",
       "567                 2.217684  \n",
       "568                -0.750546  \n",
       "\n",
       "[569 rows x 30 columns]"
      ]
     },
     "execution_count": 56,
     "metadata": {},
     "output_type": "execute_result"
    }
   ],
   "source": [
    "\n",
    "df_X.apply(lambda x: (x - x.mean())/x.std())\n",
    "\n",
    "# df_X_scaled.values * np.sqrt(scaler.var_) + scaler.mean_"
   ]
  },
  {
   "cell_type": "markdown",
   "metadata": {},
   "source": [
    "## Visualization and Trends"
   ]
  },
  {
   "cell_type": "markdown",
   "metadata": {},
   "source": [
    "Let's see the number of samples in the two classes and the percentages.\n",
    "The plot below represents the class distribution of malignant and benign samples.\n",
    "\n",
    "Here we have 212 malignants (around 38% of the data) and 357 benign breast cancer masses (62%).\n",
    "\n",
    "Count plot visualization is done by using [seaborn.countplot](https://seaborn.pydata.org/generated/seaborn.countplot.html) function."
   ]
  },
  {
   "cell_type": "code",
   "execution_count": 57,
   "metadata": {},
   "outputs": [
    {
     "data": {
      "text/plain": [
       "benign       357\n",
       "malignant    212\n",
       "Name: target, dtype: int64"
      ]
     },
     "execution_count": 57,
     "metadata": {},
     "output_type": "execute_result"
    },
    {
     "data": {
      "image/png": "[encoded data removed]",
      "text/plain": [
       "<Figure size 432x288 with 1 Axes>"
      ]
     },
     "metadata": {
      "needs_background": "light"
     },
     "output_type": "display_data"
    }
   ],
   "source": [
    "#Show the counts of observations using bars.\n",
    "ax = sns.countplot(df_y) # Returns the matplotlib Axes object\n",
    "\n",
    "\n",
    "for p in ax.patches: # gets shapes and draws annotations\n",
    "    height = p.get_height()\n",
    "    ax.text(p.get_x()+p.get_width()/2., height + 3,'{:1.2f}%'.format(height/len(df_y)*100), ha=\"center\") \n",
    "\n",
    "df_y.value_counts() # Return a Series containing counts of unique values."
   ]
  },
  {
   "cell_type": "markdown",
   "metadata": {},
   "source": [
    " We plot features in 3 groups and each group includes 10 features to observe better."
   ]
  },
  {
   "cell_type": "code",
   "execution_count": 58,
   "metadata": {},
   "outputs": [],
   "source": [
    "df_X_mean= df_X_scaled.iloc[:,:10]\n",
    "df_X_se= df_X_scaled.iloc[10:20]\n",
    "df_X_worst =df_X_scaled.iloc[20:30]"
   ]
  },
  {
   "cell_type": "markdown",
   "metadata": {},
   "source": [
    "As the dataset contain many variables, and relationship between each and every variable is to be analysed, a pair plot is used to visualize the data further. \n",
    "\n",
    "It shows the data as a collection of points.  The position of one variable in the same data row is matched with another variable’s value. Each value is a position on either the vertical or horizontal dimension indicates its correlation. \n",
    "\n",
    "**It allows both, distribution of single variables and relationships between two variables.** It is an effective method to identify trends for analysis.\n",
    "\n",
    "To implement pair plots in python seaborn is used and is made by using [seaborn.pairplot](https://seaborn.pydata.org/generated/seaborn.pairplot.html) function"
   ]
  },
  {
   "cell_type": "code",
   "execution_count": null,
   "metadata": {},
   "outputs": [],
   "source": [
    "sns.set(font_scale=1.5)\n",
    "\n",
    "sns.pairplot(pd.concat([df_X_mean,df_y], axis=1),  hue='target')\n",
    "# sns.pairplot(pd.concat([df_X_se,df_y], axis=1),  hue='target')\n",
    "# sns.pairplot(pd.concat([df_X_worst,df_y], axis=1),  hue='target')\n",
    "# ax.set_yticklabels(rotation=90)\n",
    "plt.show()"
   ]
  },
  {
   "cell_type": "markdown",
   "metadata": {},
   "source": [
    "<div class=\"alert alert-block alert-success\" style='color:black'>\n",
    "<b>Observations</b>  \n",
    "\n",
    "1. The *radius*, *area* and *perimeter* characteristics are closely related.\n",
    "2. The benign tumors have smaller cell nuclei and  Binomial distribution (for *radius*, *area* and *perimeter*)\n",
    "</div>"
   ]
  },
  {
   "cell_type": "markdown",
   "metadata": {},
   "source": [
    "**Violin plots** are used to represent comparison of a variable distribution (or sample distribution) across different \"categories\".\n",
    "[*seaboarn.violinplot*](https://seaborn.pydata.org/generated/seaborn.violinplot.html)"
   ]
  },
  {
   "cell_type": "code",
   "execution_count": null,
   "metadata": {},
   "outputs": [],
   "source": [
    "sns.set_style('whitegrid')\n",
    "plt.figure(figsize=(18,8))\n",
    "df_mean = pd.concat([df_X_mean, df_y], axis=1) \n",
    "\n",
    " \n",
    "# Unpivot the DataFrame from Wide to long format  |Target | Features| Value | [https://bit.ly/3j2Qj1O]\n",
    "data_for_violinplot = pd.melt(df_mean,id_vars=\"target\",var_name=\"features\", value_name='value')\n",
    "#violin plot\n",
    "sns.violinplot(x=\"features\", y=\"value\", hue=\"target\", data=data_for_violinplot, split=True, inner=\"quart\" )\n",
    "# sns.swarmplot(x=\"features\", y=\"value\", hue=\"target\", data=data_for_violinplot)\n",
    "plt.xticks(rotation=90) \n",
    "plt.tight_layout()"
   ]
  },
  {
   "cell_type": "markdown",
   "metadata": {},
   "source": [
    "<div class=\"alert alert-block alert-success\" style='color:black'>\n",
    "<b>Observations</b>  \n",
    "\n",
    "1. The *mean concave points*, *mean concavity* and *mean area* have well seperated distribution on target variable (seems to be good predictors)\n",
    "2. The *mean fractal dimension*, *mean symmetry* and *mean smoothness* have similar distribution on target variable\n",
    "</div>\n"
   ]
  },
  {
   "cell_type": "markdown",
   "metadata": {},
   "source": [
    "## Outliers Detection\n",
    "Outliers could be indicative of incorrect data, erroneous procedures or experimental areas where some theories may not be valid.\n",
    "\n",
    "Why finding outliers is important?\n",
    "* Data analysis and not only data cleaning (investigating the causes outliers in data)\n",
    "* Summarize data by statistics that represent the majority of the data\n",
    "* Train a model that generalizes to new data\n",
    "\n"
   ]
  },
  {
   "cell_type": "markdown",
   "metadata": {},
   "source": [
    "### InterQuartile Range \n",
    "The Tukey’s boxplot is often used to pinpoint possible outliers. \n",
    "In this plot, a box is drawn from the ﬁrst quartile Q1= x[n_sample/4] to the third quartile Q3= x[3 n_sample/4] of the data. \n",
    "Points outside the interval [Q1 − 1.5IQR, Q3 + 1.5 IQR], called the fence (or whisker), are traditionally marked as outliers. \n",
    "\n",
    "IQR = Q3 − Q1.\n",
    "![](img/box_plot_ref_needed.png)"
   ]
  },
  {
   "cell_type": "code",
   "execution_count": null,
   "metadata": {},
   "outputs": [],
   "source": [
    "plt.figure(figsize=(16,8))\n",
    "sns.boxplot( data = df_X_scaled ) \n",
    "plt.xticks(rotation=90)  \n",
    "plt.tight_layout()\n"
   ]
  },
  {
   "cell_type": "markdown",
   "metadata": {},
   "source": [
    "\n",
    "$$outlier(x)=\\begin{equation}\n",
    "\\left\\{ \n",
    "  \\begin{aligned}\n",
    "    0&   & (Q1 - 1.5 * IQR)\\leq x \\leq (Q3 + 1.5 * IQR) \\\\\n",
    "    1&   & Otherwise \n",
    "  \\end{aligned}\n",
    "  \\right.\n",
    "\\end{equation}\n",
    "$$\n",
    "\n",
    "where X is the parameter values"
   ]
  },
  {
   "cell_type": "code",
   "execution_count": null,
   "metadata": {},
   "outputs": [],
   "source": [
    "def isOutlier(x):\n",
    "    # Return True if x < (Q1 - 1.5 * IQR) OR  x > (Q3 + 1.5 * IQR)\n",
    "    return (x <(( x.quantile(0.25) - 1.5 * (x.quantile(0.75)-x.quantile(0.25))))) | (x >(( x.quantile(0.75) + 1.5 * (x.quantile(0.75)-x.quantile(0.25)))))\n",
    "\n",
    "\n",
    "df_X_clean_iqr = df_X[df_X.apply(lambda x: ~isOutlier(x)).all(axis=1)]\n",
    "# ~ is used to invert a boolean Series, https://pandas.pydata.org/pandas-docs/stable/user_guide/indexing.html#boolean-indexing\n",
    "# numpy.all Test whether all array elements along a given axis 1 evaluate to True. \n",
    "# we use ~isOutlier as dataframe mask to filter outliers\n",
    "# you can obtain the same result with: df_X_scaled[~df_X_scaled.apply(lambda x: isOutlier(x))].dropna()\n",
    "print(\"How many outliers?\",len(df_X)-len(df_X_clean_iqr))\n"
   ]
  },
  {
   "cell_type": "markdown",
   "metadata": {},
   "source": [
    "the boxplot assumes symmetry because we add the same amount to Q3 as what we subtract from Q1.**At asymmetric distributions, the usual boxplot typically ﬂags many regular data points as outlying.**\n",
    "\n"
   ]
  },
  {
   "cell_type": "markdown",
   "metadata": {},
   "source": [
    "### Z-Score\n",
    "People often use rules to detect outliers. The classical rule is based on the **z-scores** that we introduced before.\n",
    "**This technique assumes a Gaussian distribution of the data**. The outliers are the data points that are in the tails of the distribution and therefore far from the mean. \n",
    "\n",
    "$$outlier(x)=\\begin{equation}\n",
    "\\left\\{ \n",
    "  \\begin{aligned}\n",
    "    1&   &|X-\\hat{X}| \\geq 3 \\sigma \\\\\n",
    "    0&   &|X-\\hat{X}| \\leq 3 \\sigma \n",
    "  \\end{aligned}\n",
    "  \\right.\n",
    "\\end{equation}\n",
    "$$\n",
    "\n",
    "where **X** is the parameter values, $\\hat{X}$ is the mean of parameter, and **σ** is its standard deviation.\n",
    "\n",
    "More precisely, the rule ﬂags xi as **outlying if |zi| exceeds 3**, say.\n",
    "(This cutoffs is based on the fact that when the data are normally distributed, 99.7% of the observations fall within 3 standard deviations around the mean).\n",
    "We would have considered outliers all the absolute values plotted over the value 3 on the y axis. \n",
    "\n",
    "<!-- <div class=\"alert-warning\" style='color:black'> -->\n",
    "  <b>   \n",
    "However, considering the asymmetry of our distributions and the availability of data is not very high (only 569 observations), it has been preferred to use an \"visual\" approach for detection (based on density of the points above a specific threshold) and detection of the outliers (very far from the mean).\n",
    "We consider only the observations plotted under the 6 value\n",
    "  </b>  \n",
    "<!-- </div> -->"
   ]
  },
  {
   "cell_type": "code",
   "execution_count": null,
   "metadata": {},
   "outputs": [],
   "source": [
    "df_X_clean=df_X_scaled[df_X_scaled.apply(lambda x: np.abs(x) < 6).all(axis=1)] \n",
    "print(\"How many outliers?\",len(df_X_scaled)-len(df_X_clean))\n",
    "\n",
    "plt.figure(figsize=(16,8))\n",
    "sns.boxplot( data = df_X_clean )\n",
    "plt.xticks(rotation=90)  \n",
    "plt.tight_layout()"
   ]
  },
  {
   "cell_type": "markdown",
   "metadata": {},
   "source": [
    "<div class=\"alert alert-block alert-warning\" style='color:black'>\n",
    "<b>NOTE:</b>\n",
    "Before removing them we should discuss with domino experts to understand why these points are not valid (for example, the measuring equipment failed, the measurement method was unreliable for some reason, there were contaminants, etc ...).\n",
    "</div>\n",
    "\n",
    "*Outlier detection is important in medical applications* as well as many other applications that requires concentrating on uncommon activities. **It can identify potential patient management errors or problems with the instrumentation.**\n",
    "\n",
    "**Let's assume that the doctors confirm to us that the 12 outliers we found\n",
    "they are invalid data that we can then eliminate from our analysis.**\n",
    "\n",
    "If the outliers are valid data, what you can do is remove the outliers (only in the training data set used to build the model) and compare the result with the model obtained from raw data.\n",
    "We will talk about predictive models, training sets and testing sets in the next lesson."
   ]
  },
  {
   "cell_type": "code",
   "execution_count": null,
   "metadata": {},
   "outputs": [],
   "source": [
    "df_X_outlier = df_X[~df_X.index.isin(df_X_clean.index)] # or df_X[df_X_scaled.apply(lambda x: np.abs(x) >= 6).any(axis=1)] \n",
    "df_X_outlier # getting outilers data for discussing with domino experts"
   ]
  },
  {
   "cell_type": "markdown",
   "metadata": {},
   "source": [
    "We saw some simple univariate outlier detection techniques,  you can find more details in the [APPENDIX](#APPENDIX)."
   ]
  },
  {
   "cell_type": "markdown",
   "metadata": {},
   "source": [
    "## Correlation\n",
    "A correlation matrix is a table showing correlation coefficients between variables. Each cell in the table shows the correlation between two variables. A correlation matrix is used to summarize data and as a diagnostic for advanced analyses. [seaborn.heatmap](https://seaborn.pydata.org/generated/seaborn.heatmap.html)"
   ]
  },
  {
   "cell_type": "code",
   "execution_count": null,
   "metadata": {},
   "outputs": [],
   "source": [
    "sns.set(font_scale=0.8)\n",
    "plt.figure(figsize=(16,9))\n",
    "sns.heatmap( df_X_clean.corr(),  square = False, annot=True, fmt=\".2f\")\n",
    "plt.show()"
   ]
  },
  {
   "cell_type": "markdown",
   "metadata": {},
   "source": [
    "### Discovering structure in heatmap data"
   ]
  },
  {
   "cell_type": "markdown",
   "metadata": {},
   "source": [
    "We can the correlation matrix as a hierarchically-clustered heatmap in order to find easly the pattern, for example the variables highly correlate with each other. [seaborn.clustermap](https://seaborn.pydata.org/generated/seaborn.clustermap.html)"
   ]
  },
  {
   "cell_type": "code",
   "execution_count": null,
   "metadata": {},
   "outputs": [],
   "source": [
    "sns.set(font_scale=1.0)\n",
    "# Correlation is a term that is a measure of the strength of a linear relationship between two quantitative variables.\n",
    "corr_matrix = df_X_clean.corr()\n",
    "sns.clustermap(corr_matrix,annot=True,fmt=\".2f\",figsize=(20,14)) # Plot the correlation matrix as a hierarchically-clustered heatmap.\n",
    "plt.title(\"Correlation Between Features\")\n",
    "plt.show()"
   ]
  },
  {
   "cell_type": "markdown",
   "metadata": {},
   "source": [
    "<div class=\"alert alert-block alert-success\" style='color:black'>\n",
    "<b>Observations</b>  \n",
    " Radius, area and perimeter (mean, the wrost, and the standard error ) have stronge positive correlation. \n",
    "</div>\n",
    "\n",
    "[seaborn.jointplot](http://seaborn.pydata.org/generated/seaborn.jointplot.html) : plotting a bivariate relationship and distributions."
   ]
  },
  {
   "cell_type": "code",
   "execution_count": null,
   "metadata": {},
   "outputs": [],
   "source": [
    "import scipy.stats as stats #  library of statistical functions (we'll use to compute pearson correlation)\n",
    "\n",
    "# Plot correlation between 2 features and distribution\n",
    "sns.set(style=\"white\")\n",
    "\n",
    "# seaborn.jointplot draws a plot of two variables with bivariate and univariate graphs\n",
    "ax = sns.jointplot(df_X_clean.loc[:,'mean area'], \n",
    "              df_X_clean.loc[:,'mean radius'], \n",
    "              kind=\"reg\" )\n",
    "\n",
    "ax.ax_joint.text(-1,5, f\"Pearsonr's correlation: {stats.pearsonr(df_X_clean.loc[:,'mean area'], df_X_clean.loc[:,'mean radius'])[0]:.2f}\")\n",
    "\n",
    "# sns.jointplot(df_X_clean.loc[:,'mean radius'], \n",
    "#               df_X_clean.loc[:,'mean area'], \n",
    "#               kind=\"reg\")\n",
    "# sns.jointplot(df_X_clean.loc[:,'mean area'], \n",
    "#               df_X_clean.loc[:,'mean perimeter'], \n",
    "#               kind=\"reg\")\n",
    "plt.show()"
   ]
  },
  {
   "cell_type": "markdown",
   "metadata": {},
   "source": [
    "### Removing multi colinearity\n",
    "<div class=\"alert alert-block alert-warning\" style='color:black'>\n",
    "Two highly correlated input variables probably carry similar information. \n",
    "We can remove multi colinearity, it means the columns are dependenig on each other so we should avoid it because what is the use of using same column twice.\n",
    "</div>\n",
    "\n",
    "So, we can drop _worst radius,worst area,worst perimeter,area error, area error, perimeter error, radius error, mean perimeter, mean radius_ columns (they have a strong correlation with  _mean area_) and leave only _mean area_.\n"
   ]
  },
  {
   "cell_type": "code",
   "execution_count": null,
   "metadata": {},
   "outputs": [],
   "source": [
    "data_noscaled = scaler.inverse_transform(df_X_clean)\n",
    "df_X_clean_noscaled = pd.DataFrame(data_noscaled, index=df_X_clean.index, columns=df_X_clean.columns)\n",
    "df_X_clean_noscaled = df_X_clean_noscaled.drop(['worst radius','worst area','worst perimeter','area error', 'area error', 'perimeter error', 'radius error', 'mean perimeter', 'mean radius'],axis=1)"
   ]
  },
  {
   "cell_type": "code",
   "execution_count": null,
   "metadata": {},
   "outputs": [],
   "source": [
    "df_X_clean_noscaled.head(2)"
   ]
  },
  {
   "cell_type": "code",
   "execution_count": null,
   "metadata": {},
   "outputs": [],
   "source": [
    "## saving the preprocessed data on CSV file\n",
    "df_X_y_clean = df_X_clean_noscaled.join(df_y)\n",
    "df_X_y_clean.to_csv(\"data/WBCD_preprocessed.csv\")"
   ]
  },
  {
   "cell_type": "markdown",
   "metadata": {},
   "source": [
    "Correlation ‘among the predictors’ is a problem to be rectified to be able to come up with a reliable model.\n",
    "Another measure that is commonly used to help diagnose multicollinearity is presented in the [APPENDIX](#APPENDIX)."
   ]
  },
  {
   "cell_type": "markdown",
   "metadata": {},
   "source": [
    "# Dimensionality Reduction\n",
    "Too many variables can cause such problems below:\n",
    "* Increased computational cost\n",
    "* Too complex visualization problems\n",
    "* Decrease efficiency by including variables that have no effect on the analysis\n",
    "* Make data interpretation difficult\n",
    "\n",
    "Datasets often have many (hundreds or even thousands) features and dropping redundant variables is not enough to reduce the dimensionality of the dataset. In these cases we can do:\n",
    "* **Feature selection** is simply selecting and excluding given features without changing them.\n",
    "* **Dimensionality reduction** might transform the features into a lower dimension.\n",
    "\n",
    "<!-- * Select only the **best features** based on univariate statistical tests\n",
    "* Use **Principal Component Analysis** (PCA) which is a statistical procedure to convert a set of possibly correlated predictors into a set of linearly uncorrelated variables.\n",
    "\n",
    "PCA tries to explain the covariance structure of the data by means of a (hopefully small) number of components `(PC1, PC2,..,PCn)=PCA(X1,X2,...,Xn)`.These components are linear combinations of the original variables, and often allow for an interpretationand a better understanding of the different sources ofvariation. \n",
    "\n",
    "![](img/pca.png) -->\n",
    "\n",
    "more details and other dimensionality reduction algorithms are listed in the [APPENDIX](#APPENDIX)."
   ]
  },
  {
   "cell_type": "markdown",
   "metadata": {},
   "source": [
    "## Feature Selection using Scikit Learn\n",
    "Feature selection works by selecting the best features based on univariate statistical tests. It can be seen as a preprocessing step to an estimator. \n",
    "* [SelectKBest()](https://scikit-learn.org/stable/modules/generated/sklearn.feature_selection.SelectKBest.html) removes all but the k highest scoring features\n",
    "[The Chi-square (χ2) test](https://en.wikipedia.org/wiki/Chi-squared_test) is used to examine whether observed data fits with expected data.\n",
    "\n",
    "It is a test of independence and it is used to determine if there is a significant relationship between two variables. **Recall that the chi-square test measures dependence between stochastic variables**, so using this function “weeds out” the features that are the most likely to be independent of class and therefore irrelevant for classification."
   ]
  },
  {
   "cell_type": "code",
   "execution_count": null,
   "metadata": {},
   "outputs": [],
   "source": [
    "from sklearn.feature_selection import SelectKBest,chi2\n",
    "def selector(X, y, k=12):\n",
    "    \n",
    "    \"\"\"The function receive features and labels (X, y) and a target number to select features (k)\n",
    "    base on the chi-square (χ2) and return a new dataframe wiht k best features\"\"\"\n",
    "    \n",
    "    selector = SelectKBest(chi2, k)\n",
    "    \n",
    "    best_X = selector.fit_transform(X, y)\n",
    "    \n",
    "    return pd.DataFrame(best_X, columns=X.columns[selector.get_support()])\n",
    "\n",
    "best_X = selector(df_X_clean_noscaled, df_X_y_clean.target, 5)\n",
    "\n",
    "best_X.head()"
   ]
  },
  {
   "cell_type": "markdown",
   "metadata": {},
   "source": [
    "## Principal Component Analysis (PCA)\n",
    "[Principal Component Analysis](https://en.wikipedia.org/wiki/Principal_component_analysis) is fundamentally a dimensionality reduction algorithm, but it can also be useful as a tool for visualization, for noise filtering, for feature extraction and engineering, and much more.\n",
    "\n",
    "**PCA reduces the dimensionality of a dataset, while preserving as much ‘variability’ (i.e.statistical information) as possible.\n",
    "It converts a set of possibly correlated predictors into a set of linearly uncorrelated variables**\n",
    "(using [Singular Value Decomposition](https://en.wikipedia.org/wiki/Singular_value_decomposition) of the data to project it to a lower dimensional space). \n",
    "\n",
    "PCA is based on two basic considerations: \n",
    "* high correlation between variables indicates redundancy in the data; \n",
    "* the most important variables express higher variance. \n",
    "\n",
    "Based on these considerations, the model simplifies the complexity of the variables;\n",
    "\n",
    "**PCA tries to explain the covariance structure of the data by means of a (hopefully small) number of components `(PC1, PC2,..,PCn)=PCA(X1,X2,...,Xn)`.These components are linear combinations of the original variables**, and often allow for an interpretation and a better understanding of the different sources ofvariation. \n",
    "\n",
    "![](img/pca.png) \n",
    "\n",
    "Before applying PCA, we scale our data such that each feature has unit variance. This is necessary because fitting algorithms highly depend on the scaling of the features\n"
   ]
  },
  {
   "cell_type": "code",
   "execution_count": null,
   "metadata": {},
   "outputs": [],
   "source": [
    "scaler = StandardScaler() # scaling data before PCA\n",
    "scaled_features =scaler.fit_transform(df_X_clean_noscaled.values)\n",
    "df_X_clean_scaled = pd.DataFrame(scaled_features, index=df_X_clean_noscaled.index, columns=df_X_clean_noscaled.columns)"
   ]
  },
  {
   "cell_type": "markdown",
   "metadata": {},
   "source": [
    "[*sklearn.decomposition.PCA*](https://scikit-learn.org/stable/modules/generated/sklearn.decomposition.PCA.html) Linear dimensionality reduction using Singular Value Decomposition of the data to project it to a lower dimensional space. "
   ]
  },
  {
   "cell_type": "code",
   "execution_count": null,
   "metadata": {},
   "outputs": [],
   "source": [
    "from sklearn.decomposition import PCA # Principal Component Analysis module\n",
    "\n",
    "pca2d = PCA(n_components=2)  \n",
    "pc = pca2d.fit_transform(df_X_clean_scaled.values) # computes PCA components and trasforms original data\n",
    "\n",
    "pc_df = pd.DataFrame(data = pc , columns = ['PC1', 'PC2'])\n",
    "pc_df['target'] = df_X_y_clean.target.values\n",
    "\n",
    "print(pc_df.shape)\n",
    "pc_df.head(3)"
   ]
  },
  {
   "cell_type": "code",
   "execution_count": null,
   "metadata": {},
   "outputs": [],
   "source": [
    "# Now, we can create a visualization of our dataset\n",
    "plt.figure(figsize=(12, 7))\n",
    "\n",
    "sns.scatterplot(\n",
    "    data=pc_df, x=\"PC1\", y=\"PC2\", hue=\"target\"\n",
    ")\n",
    "plt.title('PCA Scatter Plot')\n",
    "plt.show()"
   ]
  },
  {
   "cell_type": "markdown",
   "metadata": {},
   "source": [
    "<div class=\"alert alert-block alert-success\" style='color:black'>\n",
    "<b>Observations</b>  \n",
    "it can be deduced that the data are linearly separable and therefore a linear model could be an good solution to solve a classification problem. \n",
    "</div>\n",
    "\n",
    "\n",
    "*In the PCA, the next question is “how many principal components are we going to choose for our new feature subspace?*\n",
    "\n",
    "A number of principal components must be considered such that they **take into account a sufficiently high percentage of total variance** (at least 70%, for example). When defining the minimum percentage of acceptable variance, the number of original variables should be taken into account, so that as the number of variables increases, a lower percentage of explained variance may be accepted.\n",
    "\n",
    "**The explained variance tells us how much information (variance) can be attributed to each of the principal components**\n"
   ]
  },
  {
   "cell_type": "code",
   "execution_count": null,
   "metadata": {},
   "outputs": [],
   "source": [
    "pca2d.explained_variance_ratio_"
   ]
  },
  {
   "cell_type": "code",
   "execution_count": null,
   "metadata": {},
   "outputs": [],
   "source": [
    "from sklearn.decomposition import PCA\n",
    "pca10 = PCA(n_components=10)\n",
    "pca10.fit(df_X_clean_scaled.values)\n",
    "\n",
    "plt.figure(1, figsize=(14, 7))\n",
    "plt.bar(range(1,11,1), pca10.explained_variance_ratio_, alpha=0.5, align='center',\n",
    "        label='individual explained variance')\n",
    "plt.step(range(1,11,1),pca10.explained_variance_ratio_.cumsum(), where='mid',\n",
    "         label='cumulative explained variance')\n",
    "plt.ylabel('Explained variance ratio')\n",
    "plt.xlabel('Principal components')\n",
    "plt.title(\"Around 95% of variance is explained by the Fisrt 10 components \");\n",
    "plt.legend(loc='best')\n",
    "plt.axhline(y=0.7, color='r', linestyle='-') # 70% of  explained variance\n",
    "plt.tight_layout()"
   ]
  },
  {
   "cell_type": "markdown",
   "metadata": {},
   "source": [
    "* PC1 describes most of the variability in the data, PC2 adds the next big contribution, and so on. In the end, the last PCs do not bring much more\n",
    "information to describe the data.\n",
    "* Thus, to describe the data we could use only the top m < n (i.e., i;, PC1, ⋯ PCn) components with little - if any - loss of information"
   ]
  },
  {
   "cell_type": "markdown",
   "metadata": {},
   "source": [
    "<div class=\"alert alert-block alert-success\" style='color:black'>\n",
    "<b>Observations</b>   A good number of principal component can be 3 with the explained variance of 74% </div>"
   ]
  },
  {
   "cell_type": "code",
   "execution_count": null,
   "metadata": {},
   "outputs": [],
   "source": [
    "pca3d = PCA(n_components=3)\n",
    "pc3 = pca3d.fit_transform(df_X_clean_scaled.values)\n",
    "\n",
    "from mpl_toolkits.mplot3d import Axes3D # 3D scatter plot\n",
    "fig = plt.figure(figsize=(12,7))\n",
    "ax = Axes3D(fig) \n",
    "\n",
    "cmap = {'benign':'orange','malignant':'blue'}\n",
    "ax.scatter(pc3[:,0], pc3[:,1], pc3[:,2], c=[cmap[c] for c in  df_X_y_clean.target.values],\n",
    "           marker='o', s=20)\n",
    "\n",
    "ax.set_xlabel('PC1')\n",
    "ax.set_ylabel('PC2')\n",
    "ax.set_zlabel('PC3')\n",
    "ax.view_init(30,-110)\n",
    "plt.show()"
   ]
  },
  {
   "cell_type": "markdown",
   "metadata": {},
   "source": [
    "You can find more dimensionality reduction techniques in the [APPENDIX](#APPENDIX)."
   ]
  },
  {
   "cell_type": "markdown",
   "metadata": {
    "toc-hr-collapsed": true
   },
   "source": [
    "# Clustering\n",
    "Discover hidden structures in unlabeled data (unsupervised).\n",
    "Clustering identifies a finite set of groups (clusters) C1, C2 ⋯ , Ck in the dataset such that:\n",
    "* Objects within the same cluster Ci shall be as similar as possible\n",
    "* Objects of different clusters Ci, Cj (i ≠ j) shall be as dissimilar as possible\n",
    "\n",
    "Clustering algorithms can be categorized based on their cluster model.\n",
    "\n",
    "## K-Means\n",
    "**K-means clustering aims to partition n observations into k clusters in which each observation belongs to the cluster with the nearest mean.**\n",
    "The means are commonly called the cluster “centroids”; \n",
    "![image](img/cluster1.jpg)\n",
    "**K-Means Algorithm:**\n",
    "1. Getting  K values as input which is the number of clusters or centroids\n",
    "2. Selecting random centroids for each cluster\n",
    "3. Assigning each data point to its closest centroid (Euclidean distance)\n",
    "4. Adjusting the centroid for the newly formed cluster in step 3\n",
    "5. Repeating step 3 and 4 till all the data points are perfectly organised within a cluster space\n",
    "\n",
    "[Visualizing K-Means Clustering](https://stanford.edu/class/engr108/visualizations/kmeans/kmeans.html)\n",
    "\n",
    "<img src='img/1_rwYaxuY-jeiVXH0fyqC_oA.gif'>\n",
    "\n",
    "[sklearn.cluster.KMeans](https://scikit-learn.org/stable/modules/generated/sklearn.cluster.KMeans.html): The KMeans estimator class in scikit-learn perform  K-Means Clustering.\n",
    "\n"
   ]
  },
  {
   "cell_type": "code",
   "execution_count": null,
   "metadata": {},
   "outputs": [],
   "source": [
    "from sklearn.cluster import KMeans\n",
    "X = df_X_clean_scaled.values\n",
    "\n",
    " # k-means++ is an algorithm for choosing a good initial centroids (far away from each other). https://en.wikipedia.org/wiki/K-means%2B%2B\n",
    "kmeans = KMeans(n_clusters = 2, init = 'k-means++', random_state = 42)\n",
    "kmeans.fit(X)\n",
    "\n",
    "pd.Series(kmeans.labels_, name='cluster')"
   ]
  },
  {
   "attachments": {
    "image.png": {
     "image/png": "[encoded data removed]"
    }
   },
   "cell_type": "markdown",
   "metadata": {},
   "source": [
    "## The Optimal Number Of Clusters\n",
    "Each cluster is formed by calculating and comparing the distances of data points within a cluster to its centroid. An ideal way to figure out the right number of clusters would be to calculate the Within-Cluster-Sum-of-Squares (WCSS or SSE). \n",
    "\n",
    "WCSS is the sum of squares of the distances of each data point in all clusters to their respective centroids.\n",
    "\n",
    "![image.png](img/1_zlZOSJB_DISgUxb06QwISw.png)\n",
    "\n",
    "We can find the optimum value for K using an Elbow point graph. We randomly initialise the K-Means algorithm for a range of K values and will plot it against the WCSS for each K value."
   ]
  },
  {
   "cell_type": "code",
   "execution_count": null,
   "metadata": {},
   "outputs": [],
   "source": [
    "X = df_X_clean_scaled.values\n",
    "from sklearn.cluster import KMeans\n",
    "wcss = []\n",
    "n_clusters = 6\n",
    "for i in range(1, n_clusters+1):\n",
    "    kmeans = KMeans(n_clusters = i, init = 'k-means++', random_state = 42) # k-means++ is an algorithm for choosing a good initial centroids. \n",
    "    kmeans.fit(X)\n",
    "    wcss.append(kmeans.inertia_)\n",
    "    \n",
    "plt.plot(range(1, n_clusters+1), wcss)\n",
    "plt.title('The Elbow Method')\n",
    "plt.xlabel('Number of clusters')\n",
    "plt.ylabel('WCSS')\n",
    "plt.axvline(x=2, color='r', linestyle='-')\n",
    "plt.show()"
   ]
  },
  {
   "cell_type": "markdown",
   "metadata": {},
   "source": [
    "<div class=\"alert alert-block alert-success\" style='color:black'>\n",
    "<b>Observations</b>   The “elbow” (the point of inflection on the curve) is a good indication that the underlying model fits best at that point.\n",
    "For the above-given graph, the optimum value for K would be 2 </div>\n"
   ]
  },
  {
   "cell_type": "code",
   "execution_count": null,
   "metadata": {},
   "outputs": [],
   "source": [
    "# k-means++ is an algorithm for choosing the initial centroids. New centroid is a far point from the other centroids\n",
    "kmeans = KMeans(n_clusters = 2, init = 'k-means++', random_state = 42)\n",
    "kmeans.fit(X)\n",
    "\n",
    "centroid = pca2d.transform(kmeans.cluster_centers_)\n",
    "centroid"
   ]
  },
  {
   "cell_type": "code",
   "execution_count": null,
   "metadata": {},
   "outputs": [],
   "source": [
    "# df_X_scaled_y_clean = df_X_clean_scaled.join(df_y)\n",
    "\n",
    "# get features vector mean for Benign and Malignant \n",
    "mean_pca_M = pca2d.transform([df_X_clean_scaled [df_y == 'malignant'].mean().values])\n",
    "mean_pca_B = pca2d.transform([df_X_clean_scaled [df_y == 'benign'].mean().values])\n",
    "\n",
    "# or\n",
    "# mean_pca_M = pca2d.transform([df_X_scaled_y_clean[ df_X_scaled_y_clean['target']=='malignant'].iloc[:,:-1].mean().values])\n",
    "# mean_pca_B = pca2d.transform([df_X_scaled_y_clean[ df_X_scaled_y_clean['target']=='benign'].iloc[:,:-1].mean().values])\n",
    "\n",
    "plt.figure(figsize=(10, 8))\n",
    "cmap = {'benign':'orange','malignant':'blue'}\n",
    "# plots kemans clusters  \n",
    "cmap = {1:'orange',0:'blue'}\n",
    "plt.scatter(pc_df.iloc[:,0], pc_df. iloc[:,1], c=[cmap[c] for c in  kmeans.labels_] )\n",
    "# plots kemans centroids  \n",
    "plt.scatter(centroid[:,0],centroid[:,1], c='black', marker='x',s=100,\n",
    "            label=\"cluster centroids\")  \n",
    "# plots features vector mean for Benign and Malignant \n",
    "plt.scatter([mean_pca_M[:,0], mean_pca_B[:,0]],[mean_pca_M[:,1], mean_pca_B[:,1]], c='red',marker='+',s=50,\n",
    "            label=\"mean target class (b,m)\") \n",
    "\n",
    "plt.legend()\n",
    "plt.title('PCA Scatter Plot (green cluster 0, red cluster 1)')\n",
    "plt.show()"
   ]
  },
  {
   "cell_type": "markdown",
   "metadata": {},
   "source": [
    "<div class=\"alert alert-block alert-success\" style='color:black'>\n",
    "<b>Observations</b>  : It is interesting to see how the centroids of the clusters fall very close to the average values of the two classes of tumors (benign and malignant). Therefore it is possible to note that, if we did not have a labeled dataset (with well-defined classes B and M) we would still be able to determine (with good probability) the class of belonging of the dataset elements, through an unsupervised clustering process .</div>"
   ]
  },
  {
   "cell_type": "markdown",
   "metadata": {},
   "source": [
    "### Silhouette: Clustering quality measure\n",
    "Silhouette-Coefficient measures the quality of clustering\n",
    "* a(x): distance of object x to its cluster representative\n",
    "* b(x): distance of object x to the representative of the second-best cluster\n",
    "* Silhouette s(x) of x\n",
    "![image.png](img/silhouette.png)"
   ]
  },
  {
   "cell_type": "markdown",
   "metadata": {},
   "source": [
    "Computes silhouette coefficients for each point, and **average it out for all the samples to get the silhouette score**.\n",
    "\n",
    "**The silhouette value is a measure of how similar an object is to its own cluster (cohesion) compared to other clusters (separation).**\n",
    "The value of the silhouette ranges between [1, -1], where a high value indicates that the object is well matched to its own cluster and poorly matched to neighboring clusters.\n",
    "\n",
    "If most objects have a high value, then the clustering configuration is appropriate. If many points have a low or negative value, then the clustering configuration may have too many or too few clusters."
   ]
  },
  {
   "cell_type": "code",
   "execution_count": null,
   "metadata": {},
   "outputs": [],
   "source": [
    "from sklearn.metrics import silhouette_samples, silhouette_score\n",
    "# The silhouette_score gives the average value for all the samples.\n",
    "silhouette_score(X,  kmeans.labels_)"
   ]
  },
  {
   "cell_type": "code",
   "execution_count": null,
   "metadata": {},
   "outputs": [],
   "source": [
    "from src.utils import kmeeans_silhouette_analysis\n",
    "sns.set_style('darkgrid') \n",
    "kmeeans_silhouette_analysis(X, range(2, n_clusters+1))"
   ]
  },
  {
   "cell_type": "markdown",
   "metadata": {},
   "source": [
    "hierarchical clustering is presented in the [APPENDIX](#APPENDIX). The aspects to look out for in Silhouette plots are cluster scores below the average silhouette score, wide fluctuations in the size of the clusters, and also the thickness of the silhouette plot.\n",
    "\n",
    "<div class=\"alert alert-block alert-success\" style='color:black'>\n",
    "<b>Observations</b>  \n",
    "\n",
    "    \n",
    "* In our example, the analysis of the silhouette is used to choose an optimal value for the number of clusters. The silhouette plot shows that a n_clusters value of 5 and 6 is not good because they have the silhouette score lower than average scores, many negative values and also large fluctuations in the size of the silhouette plot. **From the analysis of the silhouette, a good number of k clusters appears to be 2 since it confirms what has already been expressed by the elbow method.**\n",
    "\n",
    "* Both Elbow method / SSE Plot and Silhouette method can be used interchangeably based on the details presented by the plots. It may be good idea to use both the plots just to make sure that you select most optimal number of clusters.\n",
    "\n",
    "</div>"
   ]
  },
  {
   "cell_type": "markdown",
   "metadata": {},
   "source": [
    "Hierarchical clustering is presented in the [APPENDIX](#APPENDIX)"
   ]
  },
  {
   "cell_type": "markdown",
   "metadata": {
    "toc-hr-collapsed": true
   },
   "source": [
    "# APPENDIX"
   ]
  },
  {
   "cell_type": "markdown",
   "metadata": {},
   "source": [
    "This appendix includes further information on the course topics but **will not be exam topics**."
   ]
  },
  {
   "cell_type": "markdown",
   "metadata": {},
   "source": [
    "## Exploratory data analysis \n",
    "\n",
    "Although still under data exploration, we can get useful information by training a Decision Tree from all characteristics. We will explain the Decision Tree model better in the second part of this lesson."
   ]
  },
  {
   "cell_type": "code",
   "execution_count": null,
   "metadata": {},
   "outputs": [],
   "source": [
    "from sklearn import tree\n",
    "X = df_X_clean_scaled.values\n",
    "y = df_X_y_clean.target.values \n",
    "\n",
    "clf = tree.DecisionTreeClassifier(max_depth=3,min_samples_leaf=8)  \n",
    "clf.fit(X, y)\n",
    "\n",
    "fig = plt.figure(figsize=(25,20))\n",
    "out = tree.plot_tree(clf, \n",
    "                   feature_names=df_X_clean_scaled.columns,  \n",
    "                   class_names=['Malignant','Benign'],\n",
    "                   filled=True)\n",
    "for o in out: \n",
    "    arrow = o.arrow_patch\n",
    "    if arrow is not None:\n",
    "        arrow.set_edgecolor('red')\n",
    "        arrow.set_linewidth(3)"
   ]
  },
  {
   "cell_type": "markdown",
   "metadata": {},
   "source": [
    "## Outliers Detection"
   ]
  },
  {
   "cell_type": "markdown",
   "metadata": {},
   "source": [
    "1. [Leys C, Delacre M, Mora YL, Lakens D, Ley C. How to Classify, Detect, and Manage Univariate and Multivariate Outliers, With Emphasis on Pre-Registration. International Review of Social Psychology. 2019;32(1):5. DOI: http://doi.org/10.5334/irsp.289](https://www.rips-irsp.com/articles/10.5334/irsp.289). \n",
    "2. [Rousseeuw, P.J. and Hubert, M. (2018), Anomaly detection by robust statistics. WIREs Data Mining Knowl Discov, 8: e1236.](https://doi.org/10.1002/widm.1236)\n",
    "\n",
    "They suggest the use of the median absolute deviation (MAD) to detect univariate outliers. \n",
    "Again, the idea is conceptually similar to computed z-scores: for each value, subtract the median from it, and divide by the median of the absolute deviations."
   ]
  },
  {
   "cell_type": "code",
   "execution_count": null,
   "metadata": {},
   "outputs": [],
   "source": [
    "def mad(x):\n",
    "    return 1.483 * np.median(np.abs(x- np.median(x)))\n",
    "\n",
    "df_X_clean_mad = df_X_scaled[df_X_scaled.apply(lambda x: x - np.median(x)/mad(x) < 3).all(axis=1)]\n",
    "print(\"How many outliers?\",len(df_X_scaled)-len(df_X_clean_mad))\n"
   ]
  },
  {
   "cell_type": "markdown",
   "metadata": {},
   "source": [
    "### Multivariate\n",
    "[Sklearn includes different advanced outlier detection methods based on machine learning (ML)](https://scikit-learn.org/stable/modules/outlier_detection.html) can handle correlated multivariate dataset, detect abnormalities within them, and do not assume a normal distributions of the features."
   ]
  },
  {
   "cell_type": "markdown",
   "metadata": {},
   "source": [
    "## Correlation\n"
   ]
  },
  {
   "cell_type": "markdown",
   "metadata": {},
   "source": [
    "Another measure that is commonly used to help diagnose multicollinearity is the **variance inflation factor (VIF)**.\n",
    "Although correlation matrix and scatter plots can also be used to find multicollinearity, their findings only show the bivariate relationship between the independent variables. **VIF is preferred as it can show the correlation of a variable with a group of other variables.**\n",
    "\n",
    "\n",
    "VIF measures how much of the variation in one variable is explained by the other variable. This is done by running a regression using one of the correlated x variables as the dependent variable against the other variables as predictor variables.\n",
    "![](img/vip.png)\n",
    "\n",
    "Use the following guidelines to interpret the VIF:\n",
    "\n",
    "|VIF| Status of predictors|\n",
    "|------|------|\n",
    "|VIF = 1|Not correlated|\n",
    "|1 < VIF < 5|Moderately correlated|\n",
    "|VIF > 5 to 10|Highly correlated|\n",
    "\n"
   ]
  },
  {
   "cell_type": "code",
   "execution_count": null,
   "metadata": {},
   "outputs": [],
   "source": [
    "from statsmodels.stats.outliers_influence import variance_inflation_factor \n",
    "# VIF dataframe \n",
    "vif_data = pd.DataFrame() \n",
    "vif_data[\"feature\"] = df_X_scaled.columns\n",
    "\n",
    "# calculating VIF for each feature \n",
    "vif_data[\"VIF\"] = [variance_inflation_factor(df_X_scaled.values, i) \n",
    "                          for i in range(len(df_X_scaled.columns))] \n",
    "  \n",
    "print(vif_data.sort_values(by='VIF', ascending=False ))"
   ]
  },
  {
   "cell_type": "markdown",
   "metadata": {},
   "source": [
    " _mean radius_ is  highly correled to the other variable. Dropping variables should be an iterative process starting with the variable having the largest VIF. \n",
    " \n"
   ]
  },
  {
   "cell_type": "markdown",
   "metadata": {},
   "source": [
    "## Dimensionality Reduction \n",
    "### PCA\n",
    "PCA is a statistical procedure that (orthogonally) transforms the original n coordinates of a data set into a new set of n coordinates,\n",
    "called principal components.\n",
    "\n",
    "`(PC1, PC2,..,PCn)=PCA(X1,X2,...,Xn)`\n",
    "\n",
    "The first principal component PC1 follows the direction (eigenvector) of the largest possible variance (largest eigenvalue of the covariance matrix) in the data.\n",
    "\n",
    "Each succeeding component PCk follows the direction of the next largest possible variance under the constraint that it is orthogonal to (i.e., uncorrelated with) the preceding components\n",
    "\n",
    "In a nutshell, The principal components  are eigenvectors of the data's covariance matrix. Thus, the principal components are often computed by eigendecomposition of the data covariance matrix or singular value decomposition of the data matrix. \n",
    "![](img/pca_2.jpg)\n",
    "\n",
    "### Visualize Loadings\n",
    "It is also possible to visualize loadings using shapes, and use annotations to indicate which feature a certain loading original belong to. \n",
    "\n",
    "* PCA loading plot which shows how strongly each characteristic influences a principal component.\n",
    "\n",
    "For more details about the linear algebra behind eigenvectors and loadings, see this [Q&A thread](https://stats.stackexchange.com/questions/143905/loadings-vs-eigenvectors-in-pca-when-to-use-one-or-another).\n"
   ]
  },
  {
   "cell_type": "code",
   "execution_count": null,
   "metadata": {},
   "outputs": [],
   "source": [
    "from src.utils import biplot_pca\n",
    "biplot_pca( pc_df, pca2d, df_X_clean_scaled.columns.values)"
   ]
  },
  {
   "cell_type": "markdown",
   "metadata": {},
   "source": [
    "Continuing the exploratory process aimed at understanding how to simplify the dataset, without losing relevant information, the following processes were applied:  UMAP and TSNE , which are techniques for reducing complexity; in particular:\n",
    "### TSNE and UMAP\n",
    "* [TSNE (T-distributed Stochastic Neighbor Embedding)](https://lvdmaaten.github.io/publications/papers/JMLR_2008.pdf) is a non-linear dimensionality reduction technique that is particularly suited to reducing the complexity of multidimensional datasets in a two- or three-dimensional model. **It is better than PCA, but it is computationally expensive**\n",
    "* [UMAP (Uniform Manifold Approximation and Projection)](https://arxiv.org/abs/1802.03426) is a dimension reduction technique that can be used for visualisation **similarly to t-SNE, but with superior run time performance.**\n",
    "\n",
    "By reducing the dimension in a way that preserves as much of the structure of the data as possible we can get a visualisable representation of the data allowing us to “see” the data and its structure and begin to get some intuition about the data itself."
   ]
  },
  {
   "cell_type": "code",
   "execution_count": null,
   "metadata": {},
   "outputs": [],
   "source": [
    "import sys \n",
    "#  umap-learn for umap dimension reduction\n",
    "!{sys.executable} -m pip install pip -U\n",
    "!{sys.executable} -m pip install umap-learn"
   ]
  },
  {
   "cell_type": "code",
   "execution_count": null,
   "metadata": {},
   "outputs": [],
   "source": [
    "from umap import UMAP\n",
    "from sklearn.manifold import TSNE\n",
    "import time \n",
    "X = df_X_clean_scaled.values\n",
    "y = df_X_y_clean.target.values \n",
    "\n",
    "print(f\"[{time.asctime(time.localtime())}] Starting\")\n",
    "# Invoke the TSNE method\n",
    "tsne_results = TSNE(n_components=2, verbose=0, perplexity=40, n_iter=2000).fit_transform(X)\n",
    "print(f\"[{time.asctime(time.localtime())}] Completed TSNE\")\n",
    "# Invoke the UMAP method\n",
    "reducer = UMAP().fit_transform(X) \n",
    "print(f\"[{time.asctime(time.localtime())}] Completed UMAP\")\n",
    "# Invoke the PCA method\n",
    "pc = PCA(n_components=2).fit_transform(X)\n",
    "print(f\"[{time.asctime(time.localtime())}] Completed PCA\")\n",
    "\n",
    "# Plot the TSNE and PCA visuals side-by-side\n",
    "cmap = {'benign':'orange','malignant':'blue'}\n",
    "fig = plt.figure(figsize = (15,9))\n",
    "\n",
    "plt.subplot(2, 2, 1)\n",
    "plt.title('TSNE Scatter Plot')\n",
    "plt.scatter(tsne_results[:,0], tsne_results[:,1],  c =[cmap[x] for x in y] , alpha=0.75)\n",
    "\n",
    "plt.subplot(2, 2, 2)\n",
    "plt.title('UMAP Plot')\n",
    "plt.scatter( reducer[:,0], reducer[:,1], c =[cmap[x] for x in y] ,alpha=0.75)\n",
    "      \n",
    "plt.subplot(2, 2, 3)\n",
    "plt.title('PCA Plot')\n",
    "plt.scatter( pc[:,0], pc[:,1], c =[cmap[x] for x in y] ,alpha=0.75)\n",
    "\n",
    "\n",
    "plt.show()"
   ]
  },
  {
   "cell_type": "markdown",
   "metadata": {},
   "source": [
    "## Clustering\n",
    "Clustering techniques can be divided into two approaches: partition (like Kmeans) and hierarchical. The next section introduces hierarchical clustering.\n",
    "\n",
    "We suggest [Amit Saxena et al., A review of clustering techniques and developments, 2017](https://doi.org/10.1016/j.neucom.2017.06.053) paper for comprehensive study on clustering\n",
    "\n"
   ]
  },
  {
   "cell_type": "markdown",
   "metadata": {},
   "source": [
    "### Hierarchical clustering\n",
    "\n",
    "In data mining and statistics, hierarchical clustering (also called hierarchical cluster analysis or HCA) is a method of cluster analysis which seeks to build a hierarchy of clusters. [wiki](https://en.wikipedia.org/wiki/Hierarchical_clustering)\n",
    "**Construction of a hierarchy of clusters (dendrogram) by merging/separating clusters with minimum/maximum distance**\n",
    "* The agglomerative follows the bottom-up approach, which builds up clusters starting with single object and then merging these atomic clusters into larger and larger clusters using a linkage function, until all of the objects are finally lying in a single cluster or otherwise until certain termination conditions are satisfied**. \n",
    "* The divisive hierarchical clustering follows the top-down approach, which breaks up cluster containing all objects into smaller clusters, until each object forms a cluster on its own or until it satisfies certain termination conditions. The hierarchical methods usually lead to formation of dendrograms as shown.\n",
    "\n",
    "<img src='img/hclustering.jpg' />\n",
    "\n",
    "**Base Algorithm**\n",
    "1. Form initial clusters consisting of a single object, and compute the distance between each pair of clusters.\n",
    "2. Merge the two clusters having minimum distance.\n",
    "3. Calculate the distance between the new cluster and all other clusters.\n",
    "4. If there is only one cluster containing all objects: Stop, otherwise go to step 2. \n",
    "\n",
    "<img src='img/hclustering_measures.jpg' width='700' />\n",
    "\n",
    "We used the Ward linkage method, it has the highest performance in most situations, except when there were verylarge differences among cluster sizes. \n",
    "[A COMPARISON OF HIERARCHICAL METHODS FOR CLUSTERING FUNCTIONAL DATA](https://people.stat.sc.edu/Hitchcock/compare_hier_fda.pdf)"
   ]
  },
  {
   "cell_type": "code",
   "execution_count": null,
   "metadata": {},
   "outputs": [],
   "source": [
    "from src.utils import plot_dendrograms\n",
    "plot_dendrograms(X) # Ward dendrom has well separated and compact clusters "
   ]
  },
  {
   "cell_type": "code",
   "execution_count": null,
   "metadata": {},
   "outputs": [],
   "source": [
    "from scipy.cluster.hierarchy import dendrogram, linkage,median  # linkage analysis and dendrogram for visualization\n",
    "from scipy.cluster.hierarchy import fcluster  # simple clustering\n",
    "from scipy.spatial.distance import pdist, squareform # metric\n",
    "\n",
    "sns.set_style('whitegrid') \n",
    "X = df_X_clean_scaled.values\n",
    "#Perform hierarchical/agglomerative clustering using Ward method. \n",
    "# Ward = Similarity of two clusters is based on the increase in squared error when two clusters are merged\n",
    "Z = linkage(X, method='ward', metric='euclidean') \n",
    "\n",
    "plt.figure(figsize=(15, 7))\n",
    "# plots dendograms\n",
    "dendrogram(\n",
    "    Z,    \n",
    "    leaf_rotation=90.,\n",
    "    leaf_font_size=11.,\n",
    "    show_contracted=True,\n",
    "    distance_sort='descending',\n",
    "    truncate_mode = 'lastp',\n",
    "    p=50\n",
    ")\n",
    "\n",
    "plt.tight_layout()"
   ]
  },
  {
   "cell_type": "markdown",
   "metadata": {},
   "source": [
    "* horizontal lines are cluster merges\n",
    "* vertical lines tell you which clusters/labels were part of merge forming that new cluster\n",
    "* heights of the horizontal lines tell you about the distance that needed to be \"bridged\" to form the new cluster\n",
    "* a huge jump in distance is typically what we're interested to find the optimal number of clusters. \n",
    "\n",
    "The dendrogram function with Ward method divides the data into 2 groups (it cuts to 70% of the maximum length) by default \n",
    "https://docs.scipy.org/doc/scipy-0.14.0/reference/generated/scipy.cluster.hierarchy.dendrogram.html\n",
    "    \n",
    "The 2 clusters are well separated."
   ]
  },
  {
   "cell_type": "markdown",
   "metadata": {},
   "source": [
    "There are some automated Cut-Off selection methods [but they are not very reliable](https://joernhees.de/blog/2015/08/26/scipy-hierarchical-clustering-and-dendrogram-tutorial/)\n"
   ]
  },
  {
   "cell_type": "code",
   "execution_count": null,
   "metadata": {},
   "outputs": [],
   "source": [
    "# getting clusters from dendogram\n",
    "k=2\n",
    "clusters = fcluster(Z, k, criterion='maxclust')\n",
    "clusters"
   ]
  },
  {
   "cell_type": "code",
   "execution_count": null,
   "metadata": {},
   "outputs": [],
   "source": [
    "#  features vector mean for Benign and Malignant \n",
    "mean_pca_M = pca2d.transform([df_X_clean_scaled [df_y == 'malignant'].mean().values])\n",
    "mean_pca_B = pca2d.transform([df_X_clean_scaled [df_y == 'benign'].mean().values])\n",
    "\n",
    "# features vector mean for clusters\n",
    "mean_pca_c1 = pca2d.transform([df_X_clean_scaled[clusters == 1].mean().values])\n",
    "mean_pca_c2 = pca2d.transform([df_X_clean_scaled[clusters == 2].mean().values])\n",
    "\n",
    "plt.figure(figsize=(10, 8))\n",
    "# plot points with cluster dependent colors\n",
    "plt.scatter(pc_df.iloc[:,0], pc_df.iloc[:,1],c= clusters, cmap='prism', s=20)  \n",
    "# plots hcluster centroids  \n",
    "plt.scatter([mean_pca_c2[:,0], mean_pca_c1[:,0]],[mean_pca_c2[:,1], mean_pca_c1[:,1]], c='black', cmap='prism',marker='x',s=100,\n",
    "            label=\"cluster centroids\")  \n",
    "# plots features vector mean for Benign and Malignant \n",
    "plt.scatter([mean_pca_M[:,0], mean_pca_B[:,0]],[mean_pca_M[:,1], mean_pca_B[:,1]], c='blue', cmap='prism',marker='+',s=50,\n",
    "            label=\"mean target class (b,m)\") \n",
    "\n",
    "plt.legend()\n",
    "plt.title('PCA Scatter Plot (green cluster 0, red cluster 1)')\n",
    "plt.show()"
   ]
  },
  {
   "cell_type": "markdown",
   "metadata": {},
   "source": [
    "Comparison between real centroids and hierarchical clustering centroids"
   ]
  },
  {
   "cell_type": "code",
   "execution_count": null,
   "metadata": {},
   "outputs": [],
   "source": [
    "silhouette_score(X,  clusters)"
   ]
  }
 ],
 "metadata": {
  "kernelspec": {
   "display_name": "env_ipdpp_gssi2021",
   "language": "python",
   "name": "env_ipdpp_gssi2021"
  },
  "language_info": {
   "codemirror_mode": {
    "name": "ipython",
    "version": 3
   },
   "file_extension": ".py",
   "mimetype": "text/x-python",
   "name": "python",
   "nbconvert_exporter": "python",
   "pygments_lexer": "ipython3",
   "version": "3.8.6"
  },
  "toc-autonumbering": true,
  "toc-showcode": false,
  "toc-showmarkdowntxt": false,
  "toc-showtags": false
 },
 "nbformat": 4,
 "nbformat_minor": 4
}
